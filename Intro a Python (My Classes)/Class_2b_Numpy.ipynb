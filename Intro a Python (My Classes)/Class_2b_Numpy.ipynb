{
 "cells": [
  {
   "cell_type": "markdown",
   "id": "9c68fc5d",
   "metadata": {},
   "source": [
    "# Class 2b: Numpy"
   ]
  },
  {
   "cell_type": "markdown",
   "id": "77a6d777",
   "metadata": {},
   "source": [
    "First the library"
   ]
  },
  {
   "cell_type": "code",
   "execution_count": 1,
   "id": "651e4cfd",
   "metadata": {
    "ExecuteTime": {
     "end_time": "2024-06-12T09:46:25.685139Z",
     "start_time": "2024-06-12T09:46:25.536506Z"
    }
   },
   "outputs": [],
   "source": [
    "#Import library\n",
    "import numpy as np"
   ]
  },
  {
   "cell_type": "code",
   "execution_count": 2,
   "id": "21f5acb9",
   "metadata": {
    "ExecuteTime": {
     "end_time": "2024-06-12T09:46:36.739062Z",
     "start_time": "2024-06-12T09:46:36.721500Z"
    }
   },
   "outputs": [
    {
     "name": "stdout",
     "output_type": "stream",
     "text": [
      "[1. 2. 3. 4. 5.]\n"
     ]
    }
   ],
   "source": [
    "# Create a Numpy array\n",
    "\n",
    "a = np.array([1,2,3,4,5.0])\n",
    "print(a)"
   ]
  },
  {
   "cell_type": "code",
   "execution_count": 3,
   "id": "1639de87",
   "metadata": {
    "ExecuteTime": {
     "end_time": "2024-06-12T09:46:48.503729Z",
     "start_time": "2024-06-12T09:46:48.485889Z"
    }
   },
   "outputs": [
    {
     "name": "stdout",
     "output_type": "stream",
     "text": [
      "a[0]: 1.0\n",
      "a[1]: 2.0\n",
      "a[2]: 3.0\n",
      "a[3]: 4.0\n",
      "a[4]: 5.0\n"
     ]
    }
   ],
   "source": [
    "#Print each element of array a\n",
    "\n",
    "print(\"a[0]:\", a[0])\n",
    "print(\"a[1]:\", a[1])\n",
    "print(\"a[2]:\", a[2])\n",
    "print(\"a[3]:\", a[3])\n",
    "print(\"a[4]:\", a[4])"
   ]
  },
  {
   "cell_type": "code",
   "execution_count": 4,
   "id": "32ce6073",
   "metadata": {
    "ExecuteTime": {
     "end_time": "2024-06-12T09:47:01.942931Z",
     "start_time": "2024-06-12T09:47:01.929798Z"
    }
   },
   "outputs": [
    {
     "data": {
      "text/plain": [
       "numpy.ndarray"
      ]
     },
     "execution_count": 4,
     "metadata": {},
     "output_type": "execute_result"
    }
   ],
   "source": [
    "# What is the type?\n",
    "type(a)"
   ]
  },
  {
   "cell_type": "markdown",
   "id": "1aae1c4c",
   "metadata": {},
   "source": [
    "- Numpy arrays always store data using the same system.\n",
    "- If the array has for example only one floating point, then it will transform all integers to floats.\n",
    "- We can see the type of data stored using the command ARRAY_NAME.dtype\n",
    "- We can also change the values ​​of an array in the same way as with a list."
   ]
  },
  {
   "cell_type": "code",
   "execution_count": 5,
   "id": "836cee5d",
   "metadata": {
    "ExecuteTime": {
     "end_time": "2024-06-12T09:48:01.771378Z",
     "start_time": "2024-06-12T09:48:01.755839Z"
    }
   },
   "outputs": [
    {
     "data": {
      "text/plain": [
       "array([20,  1,  3,  4,  5])"
      ]
     },
     "execution_count": 5,
     "metadata": {},
     "output_type": "execute_result"
    }
   ],
   "source": [
    "c = np.array([20,1,3,4,5])\n",
    "c"
   ]
  },
  {
   "cell_type": "code",
   "execution_count": 6,
   "id": "abfd1bc1",
   "metadata": {
    "ExecuteTime": {
     "end_time": "2024-06-12T09:48:12.703613Z",
     "start_time": "2024-06-12T09:48:12.685520Z"
    }
   },
   "outputs": [
    {
     "data": {
      "text/plain": [
       "array([100,   1,   3,   4,   5])"
      ]
     },
     "execution_count": 6,
     "metadata": {},
     "output_type": "execute_result"
    }
   ],
   "source": [
    "# change the first element\n",
    "c[0]=100\n",
    "c"
   ]
  },
  {
   "cell_type": "code",
   "execution_count": 7,
   "id": "a8dcf81a",
   "metadata": {
    "ExecuteTime": {
     "end_time": "2024-06-12T09:48:34.751506Z",
     "start_time": "2024-06-12T09:48:34.744487Z"
    }
   },
   "outputs": [
    {
     "data": {
      "text/plain": [
       "array([100,   1,   3,   4,   8])"
      ]
     },
     "execution_count": 7,
     "metadata": {},
     "output_type": "execute_result"
    }
   ],
   "source": [
    "#To change the last element we need to use the length of the array -1\n",
    "\n",
    "c[4] = 8\n",
    "c"
   ]
  },
  {
   "cell_type": "markdown",
   "id": "1e33d127",
   "metadata": {},
   "source": [
    "We can cut the arrays (slicing)"
   ]
  },
  {
   "cell_type": "code",
   "execution_count": 10,
   "id": "98ab9110",
   "metadata": {
    "ExecuteTime": {
     "end_time": "2024-06-12T09:49:16.447101Z",
     "start_time": "2024-06-12T09:49:16.435085Z"
    }
   },
   "outputs": [
    {
     "data": {
      "text/plain": [
       "array([1, 3, 4])"
      ]
     },
     "execution_count": 10,
     "metadata": {},
     "output_type": "execute_result"
    }
   ],
   "source": [
    "# Lets take out the first and last elements\n",
    "d = c[1:4]\n",
    "d"
   ]
  },
  {
   "cell_type": "code",
   "execution_count": 11,
   "id": "2fe8f734",
   "metadata": {
    "ExecuteTime": {
     "end_time": "2024-06-12T09:49:42.758753Z",
     "start_time": "2024-06-12T09:49:42.742636Z"
    }
   },
   "outputs": [
    {
     "data": {
      "text/plain": [
       "array([100,   1,   3, 300, 400])"
      ]
     },
     "execution_count": 11,
     "metadata": {},
     "output_type": "execute_result"
    }
   ],
   "source": [
    "# we can also change multiple elements\n",
    "c[3:5] = 300, 400\n",
    "c"
   ]
  },
  {
   "cell_type": "markdown",
   "id": "17d7c83e",
   "metadata": {},
   "source": [
    "## Assign values by list"
   ]
  },
  {
   "cell_type": "code",
   "execution_count": 12,
   "id": "c32a64b3",
   "metadata": {
    "ExecuteTime": {
     "end_time": "2024-06-12T09:50:10.906831Z",
     "start_time": "2024-06-12T09:50:10.896837Z"
    }
   },
   "outputs": [],
   "source": [
    "#create a list\n",
    "\n",
    "seleccion = [0,2,3]"
   ]
  },
  {
   "cell_type": "code",
   "execution_count": 14,
   "id": "0dff6edb",
   "metadata": {
    "ExecuteTime": {
     "end_time": "2024-06-12T09:51:38.809196Z",
     "start_time": "2024-06-12T09:51:38.798073Z"
    }
   },
   "outputs": [
    {
     "data": {
      "text/plain": [
       "array([100,   3, 300])"
      ]
     },
     "execution_count": 14,
     "metadata": {},
     "output_type": "execute_result"
    }
   ],
   "source": [
    "#Since c is already an array, now we can select elements it via the list\n",
    "d = c[seleccion]\n",
    "d"
   ]
  },
  {
   "cell_type": "code",
   "execution_count": 15,
   "id": "fa5fc9dc",
   "metadata": {
    "ExecuteTime": {
     "end_time": "2024-06-12T09:51:48.373501Z",
     "start_time": "2024-06-12T09:51:48.361290Z"
    }
   },
   "outputs": [
    {
     "data": {
      "text/plain": [
       "array([ 42,   1,  42,  42, 400])"
      ]
     },
     "execution_count": 15,
     "metadata": {},
     "output_type": "execute_result"
    }
   ],
   "source": [
    "# Or change elements via the list\n",
    "c[seleccion] = 42\n",
    "c"
   ]
  },
  {
   "cell_type": "code",
   "execution_count": 16,
   "id": "4f35efe9",
   "metadata": {
    "ExecuteTime": {
     "end_time": "2024-06-12T09:52:05.129809Z",
     "start_time": "2024-06-12T09:52:05.118849Z"
    }
   },
   "outputs": [
    {
     "data": {
      "text/plain": [
       "array([0, 1, 2, 3, 4, 5, 6, 7, 8, 9])"
      ]
     },
     "execution_count": 16,
     "metadata": {},
     "output_type": "execute_result"
    }
   ],
   "source": [
    "# Lets create a new array\n",
    "a = np.array([0,1,2,3,4,5,6,7,8,9])\n",
    "a"
   ]
  },
  {
   "cell_type": "code",
   "execution_count": 18,
   "id": "64992718",
   "metadata": {
    "ExecuteTime": {
     "end_time": "2024-06-12T09:52:55.132788Z",
     "start_time": "2024-06-12T09:52:55.120528Z"
    }
   },
   "outputs": [
    {
     "name": "stdout",
     "output_type": "stream",
     "text": [
      "10\n",
      "10\n"
     ]
    }
   ],
   "source": [
    "#Checking size with python len(x) vs numpy x.size\n",
    "print(len(a))\n",
    "print(a.size)"
   ]
  },
  {
   "cell_type": "code",
   "execution_count": 19,
   "id": "13f5dd30",
   "metadata": {
    "ExecuteTime": {
     "end_time": "2024-06-12T09:53:43.451301Z",
     "start_time": "2024-06-12T09:53:43.433127Z"
    }
   },
   "outputs": [
    {
     "data": {
      "text/plain": [
       "1"
      ]
     },
     "execution_count": 19,
     "metadata": {},
     "output_type": "execute_result"
    }
   ],
   "source": [
    "# Arrays can be single points, vectors, matrcies... Lets check the dimensions\n",
    "\n",
    "a.ndim"
   ]
  },
  {
   "cell_type": "code",
   "execution_count": 20,
   "id": "c092c133",
   "metadata": {
    "ExecuteTime": {
     "end_time": "2024-06-12T09:53:53.050396Z",
     "start_time": "2024-06-12T09:53:53.035214Z"
    }
   },
   "outputs": [
    {
     "data": {
      "text/plain": [
       "(10,)"
      ]
     },
     "execution_count": 20,
     "metadata": {},
     "output_type": "execute_result"
    }
   ],
   "source": [
    "#and the shape...\n",
    "\n",
    "a.shape"
   ]
  },
  {
   "cell_type": "markdown",
   "id": "177d1114",
   "metadata": {},
   "source": [
    "### So what is so cool about numpy?"
   ]
  },
  {
   "cell_type": "code",
   "execution_count": 21,
   "id": "d2c35c4f",
   "metadata": {
    "ExecuteTime": {
     "end_time": "2024-06-12T09:54:21.078635Z",
     "start_time": "2024-06-12T09:54:21.057277Z"
    }
   },
   "outputs": [
    {
     "data": {
      "text/plain": [
       "4.5"
      ]
     },
     "execution_count": 21,
     "metadata": {},
     "output_type": "execute_result"
    }
   ],
   "source": [
    "# Get the mean? easy\n",
    "promedio = a.mean()\n",
    "promedio"
   ]
  },
  {
   "cell_type": "code",
   "execution_count": 22,
   "id": "6328248b",
   "metadata": {
    "ExecuteTime": {
     "end_time": "2024-06-12T09:54:29.353085Z",
     "start_time": "2024-06-12T09:54:29.342904Z"
    }
   },
   "outputs": [
    {
     "data": {
      "text/plain": [
       "2.8722813232690143"
      ]
     },
     "execution_count": 22,
     "metadata": {},
     "output_type": "execute_result"
    }
   ],
   "source": [
    "#Standard deviation? easy\n",
    "desviacion_estandar = a.std()\n",
    "desviacion_estandar"
   ]
  },
  {
   "cell_type": "code",
   "execution_count": 23,
   "id": "267394e7",
   "metadata": {
    "ExecuteTime": {
     "end_time": "2024-06-12T09:54:42.910085Z",
     "start_time": "2024-06-12T09:54:42.889778Z"
    }
   },
   "outputs": [
    {
     "data": {
      "text/plain": [
       "9"
      ]
     },
     "execution_count": 23,
     "metadata": {},
     "output_type": "execute_result"
    }
   ],
   "source": [
    "#How about highest value? easy\n",
    "\n",
    "max_a = a.max()\n",
    "max_a"
   ]
  },
  {
   "cell_type": "code",
   "execution_count": 24,
   "id": "182b959d",
   "metadata": {
    "ExecuteTime": {
     "end_time": "2024-06-12T09:54:50.881681Z",
     "start_time": "2024-06-12T09:54:50.873663Z"
    }
   },
   "outputs": [
    {
     "data": {
      "text/plain": [
       "0"
      ]
     },
     "execution_count": 24,
     "metadata": {},
     "output_type": "execute_result"
    }
   ],
   "source": [
    "# of course the minimum too\n",
    "min_a = a.min()\n",
    "min_a"
   ]
  },
  {
   "cell_type": "markdown",
   "id": "305ce17c",
   "metadata": {},
   "source": [
    "### Operations?"
   ]
  },
  {
   "cell_type": "code",
   "execution_count": 25,
   "id": "2319f353",
   "metadata": {
    "ExecuteTime": {
     "end_time": "2024-06-12T09:55:13.806168Z",
     "start_time": "2024-06-12T09:55:13.794996Z"
    }
   },
   "outputs": [
    {
     "data": {
      "text/plain": [
       "array([1, 1])"
      ]
     },
     "execution_count": 25,
     "metadata": {},
     "output_type": "execute_result"
    }
   ],
   "source": [
    "#Vector addition\n",
    "u = np.array([1,0])\n",
    "v = np.array([0,1])\n",
    "v+u"
   ]
  },
  {
   "cell_type": "code",
   "execution_count": 26,
   "id": "af50ee1d",
   "metadata": {
    "ExecuteTime": {
     "end_time": "2024-06-12T09:55:23.766014Z",
     "start_time": "2024-06-12T09:55:23.750950Z"
    }
   },
   "outputs": [
    {
     "data": {
      "text/plain": [
       "array([2, 4])"
      ]
     },
     "execution_count": 26,
     "metadata": {},
     "output_type": "execute_result"
    }
   ],
   "source": [
    "#Multiplication\n",
    "y = np.array([1,2])\n",
    "z=2*y\n",
    "z"
   ]
  },
  {
   "cell_type": "code",
   "execution_count": 28,
   "id": "b7992b39",
   "metadata": {
    "ExecuteTime": {
     "end_time": "2024-06-12T09:56:41.914806Z",
     "start_time": "2024-06-12T09:56:41.906863Z"
    }
   },
   "outputs": [
    {
     "name": "stdout",
     "output_type": "stream",
     "text": [
      "w: [3 2]\n",
      "y: [1 2]\n",
      "w*y: [3 4]\n"
     ]
    }
   ],
   "source": [
    "# 1 to 1 multiplication\n",
    "w = np.array([3,2])\n",
    "print('w:',w)\n",
    "print('y:',y)\n",
    "j=y*w\n",
    "print('w*y:', j)"
   ]
  },
  {
   "cell_type": "code",
   "execution_count": 29,
   "id": "f013ede7",
   "metadata": {
    "ExecuteTime": {
     "end_time": "2024-06-12T10:03:13.205545Z",
     "start_time": "2024-06-12T10:03:13.187311Z"
    }
   },
   "outputs": [
    {
     "data": {
      "text/plain": [
       "7"
      ]
     },
     "execution_count": 29,
     "metadata": {},
     "output_type": "execute_result"
    }
   ],
   "source": [
    "#dot product\n",
    "np.dot(w,y)"
   ]
  },
  {
   "cell_type": "code",
   "execution_count": 30,
   "id": "f03fd32f",
   "metadata": {
    "ExecuteTime": {
     "end_time": "2024-06-12T10:03:20.193322Z",
     "start_time": "2024-06-12T10:03:20.177275Z"
    }
   },
   "outputs": [
    {
     "data": {
      "text/plain": [
       "array([2, 3, 4, 0])"
      ]
     },
     "execution_count": 30,
     "metadata": {},
     "output_type": "execute_result"
    }
   ],
   "source": [
    "#add a constant\n",
    "u = np.array([1,2,3,-1])\n",
    "u+1\n"
   ]
  },
  {
   "cell_type": "code",
   "execution_count": 34,
   "id": "7da17661",
   "metadata": {
    "ExecuteTime": {
     "end_time": "2021-07-02T22:36:27.651905Z",
     "start_time": "2021-07-02T22:36:27.636943Z"
    }
   },
   "outputs": [
    {
     "data": {
      "text/plain": [
       "array([0.0000000e+00, 1.0000000e+00, 1.2246468e-16])"
      ]
     },
     "execution_count": 34,
     "metadata": {},
     "output_type": "execute_result"
    }
   ],
   "source": [
    "# El valor de pi...\n",
    "\n",
    "np.pi\n",
    "\n",
    "x= np.array([0, np.pi/2, np.pi])\n",
    "\n",
    "y = np.sin(x)\n",
    "y"
   ]
  },
  {
   "cell_type": "markdown",
   "id": "bbaf3d26",
   "metadata": {},
   "source": [
    "###  What about big arrays?\n",
    "\n",
    "Linspace is a function to generate numbers spaced by a chosen interval."
   ]
  },
  {
   "cell_type": "code",
   "execution_count": 32,
   "id": "6952b7c5",
   "metadata": {
    "ExecuteTime": {
     "end_time": "2024-06-12T10:05:42.968524Z",
     "start_time": "2024-06-12T10:05:42.956403Z"
    }
   },
   "outputs": [
    {
     "data": {
      "text/plain": [
       "array([-2. , -1.5, -1. , -0.5,  0. ,  0.5,  1. ,  1.5,  2. ])"
      ]
     },
     "execution_count": 32,
     "metadata": {},
     "output_type": "execute_result"
    }
   ],
   "source": [
    "# lets make a array with 9 elements that spans [-2:2]\n",
    "\n",
    "np.linspace(-2, 2, num=9)"
   ]
  },
  {
   "cell_type": "code",
   "execution_count": 33,
   "id": "292fd719",
   "metadata": {
    "ExecuteTime": {
     "end_time": "2024-06-12T10:06:13.640256Z",
     "start_time": "2024-06-12T10:06:13.626084Z"
    }
   },
   "outputs": [
    {
     "data": {
      "text/plain": [
       "array([0.        , 0.6981317 , 1.3962634 , 2.0943951 , 2.7925268 ,\n",
       "       3.4906585 , 4.1887902 , 4.88692191, 5.58505361, 6.28318531])"
      ]
     },
     "execution_count": 33,
     "metadata": {},
     "output_type": "execute_result"
    }
   ],
   "source": [
    "# very usefull to creat an x-axis on which to throw a function\n",
    "\n",
    "x = np.linspace(0,2*np.pi, 10)\n",
    "x"
   ]
  },
  {
   "cell_type": "code",
   "execution_count": 35,
   "id": "1edff336",
   "metadata": {
    "ExecuteTime": {
     "end_time": "2024-06-12T10:06:30.531832Z",
     "start_time": "2024-06-12T10:06:30.518872Z"
    }
   },
   "outputs": [
    {
     "data": {
      "text/plain": [
       "array([ 0.00000000e+00,  6.42787610e-01,  9.84807753e-01,  8.66025404e-01,\n",
       "        3.42020143e-01, -3.42020143e-01, -8.66025404e-01, -9.84807753e-01,\n",
       "       -6.42787610e-01, -2.44929360e-16])"
      ]
     },
     "execution_count": 35,
     "metadata": {},
     "output_type": "execute_result"
    }
   ],
   "source": [
    "# the sin of x is\n",
    "y =np.sin(x)\n",
    "y"
   ]
  },
  {
   "cell_type": "markdown",
   "id": "0f40d866",
   "metadata": {},
   "source": [
    "## Numpy 2D!"
   ]
  },
  {
   "cell_type": "code",
   "execution_count": 37,
   "id": "b3a2d0c0",
   "metadata": {
    "ExecuteTime": {
     "end_time": "2024-06-12T10:07:13.294558Z",
     "start_time": "2024-06-12T10:07:13.277438Z"
    }
   },
   "outputs": [
    {
     "data": {
      "text/plain": [
       "[[11, 12, 13], [21, 22, 23], [31, 32, 33]]"
      ]
     },
     "execution_count": 37,
     "metadata": {},
     "output_type": "execute_result"
    }
   ],
   "source": [
    "# lets make a list of lists\n",
    "a = [[11,12,13], [21,22,23], [31,32,33]]\n",
    "a"
   ]
  },
  {
   "cell_type": "code",
   "execution_count": 38,
   "id": "fa755607",
   "metadata": {
    "ExecuteTime": {
     "end_time": "2024-06-12T10:07:22.457316Z",
     "start_time": "2024-06-12T10:07:22.440179Z"
    },
    "scrolled": true
   },
   "outputs": [
    {
     "data": {
      "text/plain": [
       "array([[11, 12, 13],\n",
       "       [21, 22, 23],\n",
       "       [31, 32, 33]])"
      ]
     },
     "execution_count": 38,
     "metadata": {},
     "output_type": "execute_result"
    }
   ],
   "source": [
    "# Now make an array\n",
    "A = np.array(a)\n",
    "A"
   ]
  },
  {
   "cell_type": "code",
   "execution_count": 39,
   "id": "459955c4",
   "metadata": {
    "ExecuteTime": {
     "end_time": "2024-06-12T10:07:34.954373Z",
     "start_time": "2024-06-12T10:07:34.934231Z"
    }
   },
   "outputs": [
    {
     "data": {
      "text/plain": [
       "2"
      ]
     },
     "execution_count": 39,
     "metadata": {},
     "output_type": "execute_result"
    }
   ],
   "source": [
    "# how many dimensions?\n",
    "A.ndim"
   ]
  },
  {
   "cell_type": "code",
   "execution_count": 40,
   "id": "e295221d",
   "metadata": {
    "ExecuteTime": {
     "end_time": "2024-06-12T10:07:39.078877Z",
     "start_time": "2024-06-12T10:07:39.066698Z"
    }
   },
   "outputs": [
    {
     "data": {
      "text/plain": [
       "(3, 3)"
      ]
     },
     "execution_count": 40,
     "metadata": {},
     "output_type": "execute_result"
    }
   ],
   "source": [
    "# Shape?\n",
    "A.shape"
   ]
  },
  {
   "cell_type": "code",
   "execution_count": 42,
   "id": "ae68bed2",
   "metadata": {
    "ExecuteTime": {
     "end_time": "2024-06-12T10:08:26.766361Z",
     "start_time": "2024-06-12T10:08:26.756385Z"
    }
   },
   "outputs": [
    {
     "name": "stdout",
     "output_type": "stream",
     "text": [
      "9\n",
      "(3, 3)\n"
     ]
    },
    {
     "data": {
      "text/plain": [
       "False"
      ]
     },
     "execution_count": 42,
     "metadata": {},
     "output_type": "execute_result"
    }
   ],
   "source": [
    "#Comapre len and size in 2D\n",
    "print(A.size) #number of elements\n",
    "print(A.shape) \n",
    "A.size == len(A)"
   ]
  },
  {
   "cell_type": "markdown",
   "id": "cda21922",
   "metadata": {},
   "source": [
    "### Acceder a los elementros del arreglo"
   ]
  },
  {
   "cell_type": "code",
   "execution_count": 43,
   "id": "9fc5afc7",
   "metadata": {
    "ExecuteTime": {
     "end_time": "2024-06-12T10:09:04.933367Z",
     "start_time": "2024-06-12T10:09:04.922212Z"
    }
   },
   "outputs": [
    {
     "data": {
      "text/plain": [
       "32"
      ]
     },
     "execution_count": 43,
     "metadata": {},
     "output_type": "execute_result"
    }
   ],
   "source": [
    "#First you count the rows and then the columns. Always starting from 0!!\n",
    "A[2,1]"
   ]
  },
  {
   "cell_type": "code",
   "execution_count": 44,
   "id": "73afab43",
   "metadata": {
    "ExecuteTime": {
     "end_time": "2024-06-12T10:09:52.648149Z",
     "start_time": "2024-06-12T10:09:52.630105Z"
    }
   },
   "outputs": [
    {
     "data": {
      "text/plain": [
       "array([ True,  True])"
      ]
     },
     "execution_count": 44,
     "metadata": {},
     "output_type": "execute_result"
    }
   ],
   "source": [
    "# two ways to access the same element\n",
    "A[2][0:2] == A[2,0:2]"
   ]
  },
  {
   "cell_type": "code",
   "execution_count": 46,
   "id": "67189fd3",
   "metadata": {
    "ExecuteTime": {
     "end_time": "2024-06-12T10:11:01.447086Z",
     "start_time": "2024-06-12T10:11:01.434122Z"
    }
   },
   "outputs": [
    {
     "name": "stdout",
     "output_type": "stream",
     "text": [
      "A: [[1 2]\n",
      " [2 1]]\n",
      "B: [[3 4]\n",
      " [4 3]]\n",
      "A+B: [[4 6]\n",
      " [6 4]]\n"
     ]
    }
   ],
   "source": [
    "#When adding matrices, the rules for normal matrix addition are maintained.\n",
    "\n",
    "A = np.array([ [1,2],[2,1] ])\n",
    "B = np.array([ [3,4],[4,3] ])\n",
    "Z=A+B\n",
    "print('A:',A)\n",
    "print('B:',B)\n",
    "print('A+B:',Z)"
   ]
  },
  {
   "cell_type": "code",
   "execution_count": 47,
   "id": "b1bc9bd6",
   "metadata": {
    "ExecuteTime": {
     "end_time": "2024-06-12T10:11:19.248518Z",
     "start_time": "2024-06-12T10:11:19.232438Z"
    }
   },
   "outputs": [
    {
     "data": {
      "text/plain": [
       "array([[3, 8],\n",
       "       [8, 3]])"
      ]
     },
     "execution_count": 47,
     "metadata": {},
     "output_type": "execute_result"
    }
   ],
   "source": [
    "#Multiplying matrices multiplies each element and does not make a matrix product\n",
    "Z = A*B\n",
    "Z"
   ]
  },
  {
   "cell_type": "code",
   "execution_count": 48,
   "id": "64438e71",
   "metadata": {
    "ExecuteTime": {
     "end_time": "2024-06-12T10:11:26.906268Z",
     "start_time": "2024-06-12T10:11:26.893197Z"
    }
   },
   "outputs": [
    {
     "data": {
      "text/plain": [
       "array([[11, 10],\n",
       "       [10, 11]])"
      ]
     },
     "execution_count": 48,
     "metadata": {},
     "output_type": "execute_result"
    }
   ],
   "source": [
    "#Dot product!\n",
    "np.dot(A,B)"
   ]
  },
  {
   "cell_type": "code",
   "execution_count": 49,
   "id": "1dc28ccc",
   "metadata": {
    "ExecuteTime": {
     "end_time": "2024-06-12T10:11:36.009067Z",
     "start_time": "2024-06-12T10:11:35.980145Z"
    }
   },
   "outputs": [
    {
     "data": {
      "text/plain": [
       "array([[-0.33333333,  0.66666667],\n",
       "       [ 0.66666667, -0.33333333]])"
      ]
     },
     "execution_count": 49,
     "metadata": {},
     "output_type": "execute_result"
    }
   ],
   "source": [
    "# Transposing matrix\n",
    "\n",
    "np.linalg.inv(A)"
   ]
  }
 ],
 "metadata": {
  "kernelspec": {
   "display_name": "Python 3",
   "language": "python",
   "name": "python3"
  },
  "language_info": {
   "codemirror_mode": {
    "name": "ipython",
    "version": 3
   },
   "file_extension": ".py",
   "mimetype": "text/x-python",
   "name": "python",
   "nbconvert_exporter": "python",
   "pygments_lexer": "ipython3",
   "version": "3.8.8"
  }
 },
 "nbformat": 4,
 "nbformat_minor": 5
}
