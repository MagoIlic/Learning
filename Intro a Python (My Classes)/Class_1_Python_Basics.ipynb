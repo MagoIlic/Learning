{
 "cells": [
  {
   "cell_type": "markdown",
   "id": "33b99aea",
   "metadata": {},
   "source": [
    "# Class 1: Python Basics"
   ]
  },
  {
   "cell_type": "markdown",
   "id": "58ca035c",
   "metadata": {},
   "source": [
    "## Basic Operations\n",
    "\n",
    "In Jupyter Notebook, when you run a cell of code, it will normally return a result even if you don't ask it to do so. But if you do, it will only return the last calculation in the cell and not all the operations.\n",
    "\n",
    "That's why the \"print()\" command is very important. This command will print on the screen everything that the argument specifies. A good practice is to explicitly write with the print command everything that is actually necessary to appear on the screen, even if Jupyter Notebook would do it automatically. This helps us to organize the code, and to move from one language or software to another in a better way.\n",
    "\n",
    "Here are some examples"
   ]
  },
  {
   "cell_type": "code",
   "execution_count": 1,
   "id": "fb0dcba7",
   "metadata": {
    "ExecuteTime": {
     "end_time": "2024-06-11T13:10:12.737389Z",
     "start_time": "2024-06-11T13:10:12.726215Z"
    }
   },
   "outputs": [
    {
     "data": {
      "text/plain": [
       "4"
      ]
     },
     "execution_count": 1,
     "metadata": {},
     "output_type": "execute_result"
    }
   ],
   "source": [
    "#Jupyter will automatically show the result\n",
    "2+2"
   ]
  },
  {
   "cell_type": "code",
   "execution_count": 3,
   "id": "bc20f9f7",
   "metadata": {
    "ExecuteTime": {
     "end_time": "2024-06-11T13:10:25.778956Z",
     "start_time": "2024-06-11T13:10:25.773972Z"
    }
   },
   "outputs": [
    {
     "data": {
      "text/plain": [
       "8"
      ]
     },
     "execution_count": 3,
     "metadata": {},
     "output_type": "execute_result"
    }
   ],
   "source": [
    "#Jupyter shows only the last operation\n",
    "2+2\n",
    "4*2"
   ]
  },
  {
   "cell_type": "code",
   "execution_count": 4,
   "id": "9152f2b4",
   "metadata": {
    "ExecuteTime": {
     "end_time": "2024-06-11T13:11:08.524170Z",
     "start_time": "2024-06-11T13:11:08.506004Z"
    },
    "scrolled": true
   },
   "outputs": [
    {
     "name": "stdout",
     "output_type": "stream",
     "text": [
      "5\n",
      "8\n"
     ]
    },
    {
     "data": {
      "text/plain": [
       "2"
      ]
     },
     "execution_count": 4,
     "metadata": {},
     "output_type": "execute_result"
    }
   ],
   "source": [
    "# When running this cell, everything inside the print comands will be shown as well as the last operation of the cell\n",
    "2+2\n",
    "print(3+2)\n",
    "print(4*2)\n",
    "1+1"
   ]
  },
  {
   "cell_type": "markdown",
   "id": "8fd10004",
   "metadata": {},
   "source": [
    "## Objects\n",
    "\n",
    "In Python there are several objects to use: booleans, strings, integers, floats, lists, etc.\n",
    "- Booleans can be True or False\n",
    "- Strings are things between quotes (double or single). These can be words, letters, phrases, etc.\n",
    "- Integers and Floats are numbers, the first are whole numbers while floats are numbers with decimal values.\n",
    "- The type() command allows us to know what class the object we are working with is.\n",
    "\n",
    "Examples"
   ]
  },
  {
   "cell_type": "code",
   "execution_count": 5,
   "id": "8833ce65",
   "metadata": {
    "ExecuteTime": {
     "end_time": "2024-06-11T13:12:19.160173Z",
     "start_time": "2024-06-11T13:12:19.151199Z"
    }
   },
   "outputs": [
    {
     "data": {
      "text/plain": [
       "bool"
      ]
     },
     "execution_count": 5,
     "metadata": {},
     "output_type": "execute_result"
    }
   ],
   "source": [
    "#Boolean\n",
    "A=True\n",
    "type(A)"
   ]
  },
  {
   "cell_type": "code",
   "execution_count": 6,
   "id": "95f51d1a",
   "metadata": {
    "ExecuteTime": {
     "end_time": "2024-06-11T13:12:24.047564Z",
     "start_time": "2024-06-11T13:12:24.036595Z"
    }
   },
   "outputs": [
    {
     "name": "stdout",
     "output_type": "stream",
     "text": [
      "<class 'int'> <class 'float'>\n"
     ]
    }
   ],
   "source": [
    "#Float & Integer\n",
    "B=2\n",
    "C=2.0\n",
    "print(type(B), type(C))"
   ]
  },
  {
   "cell_type": "code",
   "execution_count": 8,
   "id": "41fed303",
   "metadata": {
    "ExecuteTime": {
     "end_time": "2024-06-11T13:12:41.197915Z",
     "start_time": "2024-06-11T13:12:41.192929Z"
    }
   },
   "outputs": [
    {
     "name": "stdout",
     "output_type": "stream",
     "text": [
      "<class 'str'> <class 'str'>\n"
     ]
    }
   ],
   "source": [
    "#String\n",
    "D = \"This is a string\"\n",
    "E = '1'\n",
    "print(type(D),type(E))"
   ]
  },
  {
   "cell_type": "markdown",
   "id": "c054d5a7",
   "metadata": {},
   "source": [
    "### Tuples\n",
    "\n",
    "- Tuples are a way of grouping objects in Python\n",
    "- Tuples are written with normal parentheses and each element is separated by commas.\n",
    "- Tuples have an index that orders the elements inside them and associates them with a number, the first element will always have the index zero associated and they continue in ascending order of natural numbers.\n",
    "\n",
    "Let's see some examples"
   ]
  },
  {
   "cell_type": "code",
   "execution_count": 9,
   "id": "28351f54",
   "metadata": {
    "ExecuteTime": {
     "end_time": "2024-06-11T13:13:46.816249Z",
     "start_time": "2024-06-11T13:13:46.808270Z"
    }
   },
   "outputs": [
    {
     "name": "stdout",
     "output_type": "stream",
     "text": [
      "('disco', 10, 1.2) <class 'tuple'>\n"
     ]
    }
   ],
   "source": [
    "#Lets create some tuples\n",
    "\n",
    "tuple1 = ('disco', 10,1.2)\n",
    "print(tuple1, type(tuple1))"
   ]
  },
  {
   "cell_type": "code",
   "execution_count": 10,
   "id": "ec6b81a2",
   "metadata": {
    "ExecuteTime": {
     "end_time": "2024-06-11T13:14:16.882304Z",
     "start_time": "2024-06-11T13:14:16.864915Z"
    }
   },
   "outputs": [
    {
     "name": "stdout",
     "output_type": "stream",
     "text": [
      "disco\n",
      "10\n",
      "1.2\n"
     ]
    }
   ],
   "source": [
    "# we can print the elements of the tuple by their index\n",
    "\n",
    "print(tuple1[0])\n",
    "print(tuple1[1])\n",
    "print(tuple1[2])"
   ]
  },
  {
   "cell_type": "code",
   "execution_count": 11,
   "id": "84e1c5ef",
   "metadata": {
    "ExecuteTime": {
     "end_time": "2024-06-11T13:14:36.943494Z",
     "start_time": "2024-06-11T13:14:36.933472Z"
    }
   },
   "outputs": [
    {
     "name": "stdout",
     "output_type": "stream",
     "text": [
      "('disco', 10, 1.2)\n",
      "<class 'str'>\n",
      "<class 'int'>\n",
      "<class 'float'>\n"
     ]
    }
   ],
   "source": [
    "# We can see the type of elements inside the tuples\n",
    "\n",
    "print(tuple1)\n",
    "print( type( tuple1[ 0 ] ) )\n",
    "print(type(tuple1[1]))\n",
    "print(type(tuple1[2]))"
   ]
  },
  {
   "cell_type": "code",
   "execution_count": 12,
   "id": "a0cdc584",
   "metadata": {
    "ExecuteTime": {
     "end_time": "2024-06-11T13:15:17.288219Z",
     "start_time": "2024-06-11T13:15:17.282241Z"
    }
   },
   "outputs": [
    {
     "name": "stdout",
     "output_type": "stream",
     "text": [
      "('disco', 10, 1.2)\n",
      "1.2\n",
      "10\n",
      "disco\n"
     ]
    }
   ],
   "source": [
    "# Negative indices allow us to access the elements starting backwards from the end\n",
    "\n",
    "print(tuple1)\n",
    "print(tuple1[-1])\n",
    "print(tuple1[-2])\n",
    "print(tuple1[-3])\n"
   ]
  },
  {
   "cell_type": "markdown",
   "id": "93ab255a",
   "metadata": {},
   "source": [
    "#### Operations in Tuples\n",
    "\n",
    "- Tuples can be concatenated, which is like \"adding tuples\". The idea behind this is that we unite them into one big tuple with all the elements. This is NOT vector addition\n",
    "- We can \"cut\" tuples, taking pieces out of them\n",
    "- We can also sort tuples\n",
    "- Finally we can have tuples inside tuples."
   ]
  },
  {
   "cell_type": "code",
   "execution_count": 13,
   "id": "c3fcf9d0",
   "metadata": {
    "ExecuteTime": {
     "end_time": "2024-06-11T13:16:21.780250Z",
     "start_time": "2024-06-11T13:16:21.763108Z"
    }
   },
   "outputs": [
    {
     "data": {
      "text/plain": [
       "('disco', 10, 1.2, 'hard rock', 10)"
      ]
     },
     "execution_count": 13,
     "metadata": {},
     "output_type": "execute_result"
    }
   ],
   "source": [
    "#Concatening tuples\n",
    "tuple2 = tuple1 + (\"hard rock\", 10)\n",
    "tuple2"
   ]
  },
  {
   "cell_type": "code",
   "execution_count": 14,
   "id": "8dca1b0c",
   "metadata": {
    "ExecuteTime": {
     "end_time": "2024-06-11T13:16:34.246326Z",
     "start_time": "2024-06-11T13:16:34.238349Z"
    }
   },
   "outputs": [
    {
     "name": "stdout",
     "output_type": "stream",
     "text": [
      "('disco', 10, 1.2, 'hard rock', 10)\n",
      "('disco', 10, 1.2) ('hard rock', 10)\n"
     ]
    }
   ],
   "source": [
    "#Cuting tuples\n",
    "\n",
    "print(tuple2)\n",
    "\n",
    "print(tuple2[0:3],\n",
    "tuple2[3:5])"
   ]
  },
  {
   "cell_type": "code",
   "execution_count": 15,
   "id": "8a2e97e6",
   "metadata": {
    "ExecuteTime": {
     "end_time": "2024-06-11T13:16:58.262656Z",
     "start_time": "2024-06-11T13:16:58.253652Z"
    }
   },
   "outputs": [
    {
     "data": {
      "text/plain": [
       "5"
      ]
     },
     "execution_count": 15,
     "metadata": {},
     "output_type": "execute_result"
    }
   ],
   "source": [
    "#Lenght of tuple\n",
    "\n",
    "len(tuple2)"
   ]
  },
  {
   "cell_type": "code",
   "execution_count": 16,
   "id": "f0e9fdf8",
   "metadata": {
    "ExecuteTime": {
     "end_time": "2024-06-11T13:17:25.757939Z",
     "start_time": "2024-06-11T13:17:25.739845Z"
    }
   },
   "outputs": [
    {
     "name": "stdout",
     "output_type": "stream",
     "text": [
      "(0, 9, 6, 5, 10, 8, 9, 6, 2) [0, 2, 5, 6, 6, 8, 9, 9, 10]\n"
     ]
    }
   ],
   "source": [
    "#Lets sort a tuple, but for that we must first create one that can be sorted\n",
    "\n",
    "Ratings = (0, 9, 6, 5, 10, 8, 9, 6, 2)\n",
    "\n",
    "RatingsSorted = sorted(Ratings)\n",
    "\n",
    "print(Ratings,RatingsSorted)"
   ]
  },
  {
   "cell_type": "code",
   "execution_count": 17,
   "id": "a7f93404",
   "metadata": {
    "ExecuteTime": {
     "end_time": "2024-06-11T13:17:48.505908Z",
     "start_time": "2024-06-11T13:17:48.496960Z"
    }
   },
   "outputs": [
    {
     "name": "stdout",
     "output_type": "stream",
     "text": [
      "['a', 'aa', 'c', 'f', 'gato', 'perro', 'perro2', 'z']\n"
     ]
    }
   ],
   "source": [
    "#Sorting letters\n",
    "\n",
    "tuplaLetras = ('a','f','c','z', 'aa', 'perro','gato','perro2')\n",
    "\n",
    "ordenada = sorted(tuplaLetras)\n",
    "\n",
    "print(ordenada)"
   ]
  },
  {
   "cell_type": "code",
   "execution_count": 20,
   "id": "8c1a6fb3",
   "metadata": {
    "ExecuteTime": {
     "end_time": "2024-06-11T13:19:10.815027Z",
     "start_time": "2024-06-11T13:19:10.801066Z"
    }
   },
   "outputs": [
    {
     "name": "stdout",
     "output_type": "stream",
     "text": [
      "(1, 2, ('pop', 'rock'), (3, 4), ('disco', (1, 2)))\n",
      "length of the tuple:  5\n"
     ]
    }
   ],
   "source": [
    "# Tuples within tuples\n",
    "\n",
    "NestedT =(1, 2, (\"pop\", \"rock\") ,(3,4),(\"disco\",(1,2)))\n",
    "\n",
    "print(NestedT)\n",
    "\n",
    "print('length of the tuple: ',len(NestedT))"
   ]
  },
  {
   "cell_type": "code",
   "execution_count": 21,
   "id": "db67d689",
   "metadata": {
    "ExecuteTime": {
     "end_time": "2024-06-11T13:19:29.151733Z",
     "start_time": "2024-06-11T13:19:29.142859Z"
    }
   },
   "outputs": [
    {
     "name": "stdout",
     "output_type": "stream",
     "text": [
      "Element 0 of Tuple:  1\n",
      "Element 1 of Tuple:  2\n",
      "Element 2 of Tuple:  ('pop', 'rock')\n",
      "Element 3 of Tuple:  (3, 4)\n",
      "Element 4 of Tuple:  ('disco', (1, 2))\n"
     ]
    }
   ],
   "source": [
    "#Print the elements of each index\n",
    "\n",
    "print(\"Element 0 of Tuple: \", NestedT[0])\n",
    "print(\"Element 1 of Tuple: \", NestedT[1])\n",
    "print(\"Element 2 of Tuple: \", NestedT[2])\n",
    "print(\"Element 3 of Tuple: \", NestedT[3])\n",
    "print(\"Element 4 of Tuple: \", NestedT[4])"
   ]
  },
  {
   "cell_type": "code",
   "execution_count": 22,
   "id": "03a8631f",
   "metadata": {
    "ExecuteTime": {
     "end_time": "2024-06-11T13:20:03.047087Z",
     "start_time": "2024-06-11T13:20:03.041111Z"
    }
   },
   "outputs": [
    {
     "name": "stdout",
     "output_type": "stream",
     "text": [
      "Element 2, 0 of Tuple:  pop\n",
      "Element 2, 1 of Tuple:  rock\n",
      "Element 3, 0 of Tuple:  3\n",
      "Element 3, 1 of Tuple:  4\n",
      "Element 4, 0 of Tuple:  disco\n",
      "Element 4, 1 of Tuple:  (1, 2)\n"
     ]
    }
   ],
   "source": [
    "# Print elements of each index, nests included\n",
    "\n",
    "print(\"Element 2, 0 of Tuple: \",   NestedT[2][0])\n",
    "print(\"Element 2, 1 of Tuple: \",   NestedT[2][1])\n",
    "print(\"Element 3, 0 of Tuple: \",   NestedT[3][0])\n",
    "print(\"Element 3, 1 of Tuple: \",   NestedT[3][1])\n",
    "print(\"Element 4, 0 of Tuple: \",   NestedT[4][0])\n",
    "print(\"Element 4, 1 of Tuple: \",   NestedT[4][1])"
   ]
  },
  {
   "cell_type": "code",
   "execution_count": 23,
   "id": "246f1e73",
   "metadata": {
    "ExecuteTime": {
     "end_time": "2024-06-11T13:20:15.138367Z",
     "start_time": "2024-06-11T13:20:15.130357Z"
    }
   },
   "outputs": [
    {
     "data": {
      "text/plain": [
       "'r'"
      ]
     },
     "execution_count": 23,
     "metadata": {},
     "output_type": "execute_result"
    }
   ],
   "source": [
    "\n",
    "NestedT[2][1][0]"
   ]
  },
  {
   "cell_type": "code",
   "execution_count": 24,
   "id": "b2c36a63",
   "metadata": {
    "ExecuteTime": {
     "end_time": "2024-06-11T13:20:22.714813Z",
     "start_time": "2024-06-11T13:20:22.700636Z"
    }
   },
   "outputs": [
    {
     "data": {
      "text/plain": [
       "'o'"
      ]
     },
     "execution_count": 24,
     "metadata": {},
     "output_type": "execute_result"
    }
   ],
   "source": [
    "\n",
    "\n",
    "NestedT[2][1][1]"
   ]
  },
  {
   "cell_type": "code",
   "execution_count": 25,
   "id": "0afc6870",
   "metadata": {
    "ExecuteTime": {
     "end_time": "2024-06-11T13:20:23.708557Z",
     "start_time": "2024-06-11T13:20:23.689240Z"
    }
   },
   "outputs": [
    {
     "data": {
      "text/plain": [
       "1"
      ]
     },
     "execution_count": 25,
     "metadata": {},
     "output_type": "execute_result"
    }
   ],
   "source": [
    "\n",
    "NestedT[4][1][0]"
   ]
  },
  {
   "cell_type": "code",
   "execution_count": 53,
   "id": "23598b4b",
   "metadata": {
    "ExecuteTime": {
     "end_time": "2021-06-25T21:34:08.672699Z",
     "start_time": "2021-06-25T21:34:08.662690Z"
    }
   },
   "outputs": [
    {
     "data": {
      "text/plain": [
       "2"
      ]
     },
     "execution_count": 53,
     "metadata": {},
     "output_type": "execute_result"
    }
   ],
   "source": [
    "\n",
    "NestedT[4][1][1]"
   ]
  },
  {
   "cell_type": "markdown",
   "id": "a08bc3a4",
   "metadata": {},
   "source": [
    "### Lists\n",
    "\n",
    "- Lists can be a sequenced collection of objects such as integers, floats, strings, and other lists. Yes, you can have a list within a list.\n",
    "- All lists have an index that associates each element with a number. They ALWAYS start with zero as the index of the first element.\n",
    "- Lists are built within square brackets by separating the elements with commas\n",
    "\n",
    "Let's look at some examples"
   ]
  },
  {
   "cell_type": "code",
   "execution_count": 31,
   "id": "516e603d",
   "metadata": {
    "ExecuteTime": {
     "end_time": "2024-06-11T13:24:19.880317Z",
     "start_time": "2024-06-11T13:24:19.860178Z"
    }
   },
   "outputs": [
    {
     "data": {
      "text/plain": [
       "['Michael Jackson', 10.1, 1982]"
      ]
     },
     "execution_count": 31,
     "metadata": {},
     "output_type": "execute_result"
    }
   ],
   "source": [
    "#Creating a list\n",
    "\n",
    "L = ['Michael Jackson', 10.1, 1982]\n",
    "L"
   ]
  },
  {
   "cell_type": "code",
   "execution_count": 30,
   "id": "fc2649cf",
   "metadata": {
    "ExecuteTime": {
     "end_time": "2024-06-11T13:24:13.571221Z",
     "start_time": "2024-06-11T13:24:13.558156Z"
    }
   },
   "outputs": [
    {
     "name": "stdout",
     "output_type": "stream",
     "text": [
      "Same element using positive and negative indexing:\n",
      " Positive (0): Michael Jackson \n",
      " Negative (-3): Michael Jackson\n",
      "Same element using positive and negative indexing:\n",
      " Positive (1): 10.1 \n",
      " Negative (-2): 10.1\n",
      "Same element using positive and negative indexing:\n",
      " Positive (2): 1982 \n",
      " Negative (-1): 1982\n"
     ]
    }
   ],
   "source": [
    "# printing the elements of each index\n",
    "\n",
    "print('Same element using positive and negative indexing:\\n Positive (0):',L[0],\n",
    "'\\n Negative (-3):' , L[-3]  )\n",
    "print('Same element using positive and negative indexing:\\n Positive (1):',L[1],\n",
    "'\\n Negative (-2):' , L[-2]  )\n",
    "print('Same element using positive and negative indexing:\\n Positive (2):',L[2],\n",
    "'\\n Negative (-1):' , L[-1]  )"
   ]
  },
  {
   "cell_type": "code",
   "execution_count": 32,
   "id": "28d95e0f",
   "metadata": {
    "ExecuteTime": {
     "end_time": "2024-06-11T13:24:33.286590Z",
     "start_time": "2024-06-11T13:24:33.271433Z"
    }
   },
   "outputs": [
    {
     "data": {
      "text/plain": [
       "['Michael Jackson', 10.1, 1982, [1, 2], ('A', 1)]"
      ]
     },
     "execution_count": 32,
     "metadata": {},
     "output_type": "execute_result"
    }
   ],
   "source": [
    "#List within list\n",
    "\n",
    "[\"Michael Jackson\", 10.1, 1982, [1, 2], (\"A\", 1)]"
   ]
  },
  {
   "cell_type": "markdown",
   "id": "ce69e4a4",
   "metadata": {
    "ExecuteTime": {
     "end_time": "2021-06-25T21:00:28.910315Z",
     "start_time": "2021-06-25T21:00:28.906313Z"
    }
   },
   "source": [
    "#### Operations in lists\n",
    "\n",
    "Lists can be cut, we can add items to them, extend them, change items, delete items"
   ]
  },
  {
   "cell_type": "code",
   "execution_count": 35,
   "id": "73155ebb",
   "metadata": {
    "ExecuteTime": {
     "end_time": "2024-06-11T13:25:44.101233Z",
     "start_time": "2024-06-11T13:25:44.091066Z"
    }
   },
   "outputs": [
    {
     "name": "stdout",
     "output_type": "stream",
     "text": [
      "['MJ', 1]\n"
     ]
    }
   ],
   "source": [
    "#Cuting Lists\n",
    "\n",
    "L = ['Michael Jackson', 10.1, 1982, \"MJ\", 1]\n",
    "\n",
    "print(L[3:5])"
   ]
  },
  {
   "cell_type": "code",
   "execution_count": 36,
   "id": "bc1aafbd",
   "metadata": {
    "ExecuteTime": {
     "end_time": "2024-06-11T13:25:55.122735Z",
     "start_time": "2024-06-11T13:25:55.104504Z"
    }
   },
   "outputs": [
    {
     "data": {
      "text/plain": [
       "['Michael Jackson', 10.1, 1982, 'MJ', 1, 'pop', 10]"
      ]
     },
     "execution_count": 36,
     "metadata": {},
     "output_type": "execute_result"
    }
   ],
   "source": [
    "#Extending Lists\n",
    "\n",
    "L.extend(['pop',10])\n",
    "L"
   ]
  },
  {
   "cell_type": "code",
   "execution_count": 37,
   "id": "0e6ebc17",
   "metadata": {
    "ExecuteTime": {
     "end_time": "2024-06-11T13:26:13.521688Z",
     "start_time": "2024-06-11T13:26:13.505606Z"
    }
   },
   "outputs": [
    {
     "data": {
      "text/plain": [
       "['Michael Jackson', 10.1, 1982, 'MJ', 1, ['pop', 10]]"
      ]
     },
     "execution_count": 37,
     "metadata": {},
     "output_type": "execute_result"
    }
   ],
   "source": [
    "#Appending the L list\n",
    "\n",
    "L = ['Michael Jackson', 10.1, 1982, \"MJ\", 1]\n",
    "\n",
    "L.append(['pop', 10])\n",
    "\n",
    "L"
   ]
  },
  {
   "cell_type": "markdown",
   "id": "30ad3be7",
   "metadata": {},
   "source": [
    "Note that extending lists only adds elements to the list at the same level that was extended. On the other hand, appending actually adds the new information as a nested list."
   ]
  },
  {
   "cell_type": "code",
   "execution_count": 39,
   "id": "20ae88d4",
   "metadata": {
    "ExecuteTime": {
     "end_time": "2024-06-11T13:28:09.359431Z",
     "start_time": "2024-06-11T13:28:09.346501Z"
    }
   },
   "outputs": [
    {
     "name": "stdout",
     "output_type": "stream",
     "text": [
      "['disco', 10, 1.2]\n",
      "['Reggeton', 10, 1.2]\n"
     ]
    }
   ],
   "source": [
    "#Changing the list\n",
    "A = ['disco', 10, 1.2]\n",
    "\n",
    "print(A)\n",
    "A[0] = 'Reggeton'\n",
    "print(A)"
   ]
  },
  {
   "cell_type": "code",
   "execution_count": 40,
   "id": "54fb757e",
   "metadata": {
    "ExecuteTime": {
     "end_time": "2024-06-11T13:28:22.061900Z",
     "start_time": "2024-06-11T13:28:22.042725Z"
    }
   },
   "outputs": [
    {
     "name": "stdout",
     "output_type": "stream",
     "text": [
      "['disco', 10, 1.2]\n",
      "[1.2]\n"
     ]
    }
   ],
   "source": [
    "#Deliting elements\n",
    "A = ['disco', 10, 1.2]\n",
    "print(A)\n",
    "del(A[0:2])\n",
    "print(A)"
   ]
  },
  {
   "cell_type": "code",
   "execution_count": 41,
   "id": "5dbf2672",
   "metadata": {
    "ExecuteTime": {
     "end_time": "2024-06-11T13:31:38.400610Z",
     "start_time": "2024-06-11T13:31:38.388674Z"
    }
   },
   "outputs": [
    {
     "name": "stdout",
     "output_type": "stream",
     "text": [
      "It's a dangerous business, Frodo, going out your door. <class 'str'>\n",
      "[\"It's\", 'a', 'dangerous', 'business,', 'Frodo,', 'going', 'out', 'your', 'door.']\n",
      "[\"It's a dangerous business\", ' Frodo', ' going out your door.']\n",
      "[\"It's a danger\", 'us business, Fr', 'd', ', g', 'ing ', 'ut y', 'ur d', '', 'r.']\n"
     ]
    }
   ],
   "source": [
    "#About strings. We can split a string into its words or components and transform each of these elements into\n",
    "#a big list.\n",
    "\n",
    "S = \"It's a dangerous business, Frodo, going out your door.\"\n",
    "print(S, type(S))\n",
    "print(S.split())\n",
    "print(S.split(','))\n",
    "print(S.split('o'))"
   ]
  },
  {
   "cell_type": "code",
   "execution_count": 42,
   "id": "b8ca3df9",
   "metadata": {
    "ExecuteTime": {
     "end_time": "2024-06-11T13:32:32.513254Z",
     "start_time": "2024-06-11T13:32:32.498329Z"
    }
   },
   "outputs": [
    {
     "name": "stdout",
     "output_type": "stream",
     "text": [
      "[2, 3, 10, 4.2]\n",
      "[2, 3, 10, 4.2]\n",
      "[2, 3, 10, 4.2]\n"
     ]
    }
   ],
   "source": [
    "#Copying lists\n",
    "\n",
    "Lista = [2,3,10,4.2]\n",
    "\n",
    "print(Lista)\n",
    "\n",
    "Lista2 = Lista\n",
    "\n",
    "print(Lista)\n",
    "print(Lista2)\n"
   ]
  },
  {
   "cell_type": "code",
   "execution_count": 43,
   "id": "89d0b2d0",
   "metadata": {
    "ExecuteTime": {
     "end_time": "2024-06-11T13:32:46.978792Z",
     "start_time": "2024-06-11T13:32:46.961701Z"
    }
   },
   "outputs": [
    {
     "name": "stdout",
     "output_type": "stream",
     "text": [
      "[2, 3, 10, 4.2]\n",
      "[2, 3, 10, 8]\n",
      "[2, 3, 10, 5]\n"
     ]
    }
   ],
   "source": [
    "#Changing lists\n",
    "print(Lista)\n",
    "Lista[3] = 8\n",
    "print(Lista2)\n",
    "Lista2[3] = 5\n",
    "print(Lista)"
   ]
  },
  {
   "cell_type": "code",
   "execution_count": 46,
   "id": "58e8e3fe",
   "metadata": {
    "ExecuteTime": {
     "end_time": "2024-06-11T13:33:20.168037Z",
     "start_time": "2024-06-11T13:33:20.155024Z"
    }
   },
   "outputs": [
    {
     "name": "stdout",
     "output_type": "stream",
     "text": [
      "[2, 3, 10, 5]\n",
      "[3, 10]\n"
     ]
    }
   ],
   "source": [
    "#Copying part of lists\n",
    "print(Lista)\n",
    "\n",
    "clon = Lista[1:3]\n",
    "print(clon)"
   ]
  },
  {
   "cell_type": "code",
   "execution_count": 49,
   "id": "9c6fba0c",
   "metadata": {
    "ExecuteTime": {
     "end_time": "2024-06-11T13:34:00.018471Z",
     "start_time": "2024-06-11T13:34:00.011330Z"
    }
   },
   "outputs": [
    {
     "name": "stdout",
     "output_type": "stream",
     "text": [
      "[2, 3, 10, 5]\n",
      "[4, 10]\n"
     ]
    }
   ],
   "source": [
    "#changing the copy doesn't change the original\n",
    "clon[0] = 4\n",
    "print(Lista)\n",
    "print(clon)"
   ]
  },
  {
   "cell_type": "markdown",
   "id": "b801cca8",
   "metadata": {},
   "source": [
    "### Dictionaries\n",
    "\n",
    "- A dictionary is a collection that is ordered, changable and that doesn't allow duplicates\n",
    "- They allow you to store data in \"key:value\" pairs\n",
    "- They are written inside curly brackets {}, they can have multiple keys and all values must be associated to one of those keys."
   ]
  },
  {
   "cell_type": "code",
   "execution_count": 51,
   "id": "ba490d0f",
   "metadata": {
    "ExecuteTime": {
     "end_time": "2024-06-11T13:38:27.778987Z",
     "start_time": "2024-06-11T13:38:27.770053Z"
    }
   },
   "outputs": [
    {
     "data": {
      "text/plain": [
       "{'Key1': 1,\n",
       " 'Key2': '2',\n",
       " 'Key3': [3, 3, 3],\n",
       " 'Key4': (4, 4, 4),\n",
       " 'Key5': 5,\n",
       " (0, 1): 6}"
      ]
     },
     "execution_count": 51,
     "metadata": {},
     "output_type": "execute_result"
    }
   ],
   "source": [
    "#Example with multiple keys and values\n",
    "Dict = {\"Key1\": 1, \"Key2\": \"2\", \"Key3\": [3,3,3,], \"Key4\": (4,4,4), (\"Key5\"): 5, (0,1):6}\n",
    "Dict"
   ]
  },
  {
   "cell_type": "code",
   "execution_count": 54,
   "id": "3127db24",
   "metadata": {
    "ExecuteTime": {
     "end_time": "2024-06-11T13:39:44.450864Z",
     "start_time": "2024-06-11T13:39:44.443851Z"
    }
   },
   "outputs": [
    {
     "data": {
      "text/plain": [
       "6"
      ]
     },
     "execution_count": 54,
     "metadata": {},
     "output_type": "execute_result"
    }
   ],
   "source": [
    "#Values can be shown by their keyes\n",
    "Dict[(0,1)]"
   ]
  },
  {
   "cell_type": "code",
   "execution_count": 55,
   "id": "73926319",
   "metadata": {
    "ExecuteTime": {
     "end_time": "2024-06-11T13:40:04.794279Z",
     "start_time": "2024-06-11T13:40:04.788336Z"
    }
   },
   "outputs": [],
   "source": [
    "diccionario = {\"Thriller\": \"1982\", \"Back in Black\": \"1980\", \"The Dark Side of the Moon\": \"1973\",\"Rumours\": \"1977\"}"
   ]
  },
  {
   "cell_type": "code",
   "execution_count": 56,
   "id": "1dc252a8",
   "metadata": {
    "ExecuteTime": {
     "end_time": "2024-06-11T13:40:35.536029Z",
     "start_time": "2024-06-11T13:40:35.528794Z"
    }
   },
   "outputs": [
    {
     "data": {
      "text/plain": [
       "dict_keys(['Thriller', 'Back in Black', 'The Dark Side of the Moon', 'Rumours'])"
      ]
     },
     "execution_count": 56,
     "metadata": {},
     "output_type": "execute_result"
    }
   ],
   "source": [
    "#To see the keys we use the name of the dictionary and add .keys()\n",
    "diccionario.keys()"
   ]
  },
  {
   "cell_type": "code",
   "execution_count": 58,
   "id": "d3911af1",
   "metadata": {
    "ExecuteTime": {
     "end_time": "2024-06-11T13:41:04.166921Z",
     "start_time": "2024-06-11T13:41:04.156686Z"
    }
   },
   "outputs": [
    {
     "data": {
      "text/plain": [
       "dict_values(['1982', '1980', '1973', '1977'])"
      ]
     },
     "execution_count": 58,
     "metadata": {},
     "output_type": "execute_result"
    }
   ],
   "source": [
    "# To see the values we use the name of the dictionary and add .values()\n",
    "\n",
    "diccionario.values()"
   ]
  },
  {
   "cell_type": "code",
   "execution_count": 64,
   "id": "e6aff999",
   "metadata": {
    "ExecuteTime": {
     "end_time": "2024-06-11T13:42:22.345153Z",
     "start_time": "2024-06-11T13:42:22.327121Z"
    }
   },
   "outputs": [
    {
     "data": {
      "text/plain": [
       "{'Thriller': '1982',\n",
       " 'Back in Black': '1980',\n",
       " 'The Dark Side of the Moon': '1973',\n",
       " 'Rumours': '1977',\n",
       " 'Graduation': '2007'}"
      ]
     },
     "execution_count": 64,
     "metadata": {},
     "output_type": "execute_result"
    }
   ],
   "source": [
    "#We can add a key with its corresponding values\n",
    "diccionario[\"Graduation\"] = '2007'\n",
    "diccionario"
   ]
  },
  {
   "cell_type": "code",
   "execution_count": 65,
   "id": "c0a6cc0a",
   "metadata": {
    "ExecuteTime": {
     "end_time": "2024-06-11T13:42:23.461060Z",
     "start_time": "2024-06-11T13:42:23.453045Z"
    }
   },
   "outputs": [],
   "source": [
    "#We can add whole sections too\n",
    "del(diccionario[\"Graduation\"])"
   ]
  },
  {
   "cell_type": "code",
   "execution_count": 66,
   "id": "00a77de8",
   "metadata": {
    "ExecuteTime": {
     "end_time": "2024-06-11T13:42:26.861620Z",
     "start_time": "2024-06-11T13:42:26.850523Z"
    }
   },
   "outputs": [
    {
     "data": {
      "text/plain": [
       "{'Thriller': '1982',\n",
       " 'Back in Black': '1980',\n",
       " 'The Dark Side of the Moon': '1973',\n",
       " 'Rumours': '1977'}"
      ]
     },
     "execution_count": 66,
     "metadata": {},
     "output_type": "execute_result"
    }
   ],
   "source": [
    "diccionario"
   ]
  },
  {
   "cell_type": "code",
   "execution_count": 67,
   "id": "8ab64a7b",
   "metadata": {
    "ExecuteTime": {
     "end_time": "2024-06-11T13:42:47.610572Z",
     "start_time": "2024-06-11T13:42:47.603596Z"
    }
   },
   "outputs": [
    {
     "name": "stdout",
     "output_type": "stream",
     "text": [
      "False\n",
      "True\n"
     ]
    }
   ],
   "source": [
    "#We can ask if something exists in the dictionary\n",
    "print(\"The Bodyguard\" in diccionario)\n",
    "print(\"The Dark Side of the Moon\" in diccionario)"
   ]
  },
  {
   "cell_type": "markdown",
   "id": "f9a10d63",
   "metadata": {
    "ExecuteTime": {
     "end_time": "2021-06-25T22:07:59.525113Z",
     "start_time": "2021-06-25T22:07:59.515139Z"
    }
   },
   "source": [
    "## Conditions\n",
    "\n",
    "equal ==\n",
    "\n",
    "unequal !=\n",
    "\n",
    "greater than >\n",
    "\n",
    "less than <\n",
    "\n",
    "greater or equal >=\n",
    "\n",
    "less or equal <="
   ]
  },
  {
   "cell_type": "code",
   "execution_count": 69,
   "id": "8ab3c365",
   "metadata": {
    "ExecuteTime": {
     "end_time": "2024-06-11T13:44:14.796261Z",
     "start_time": "2024-06-11T13:44:14.781067Z"
    }
   },
   "outputs": [
    {
     "name": "stdout",
     "output_type": "stream",
     "text": [
      "False\n",
      "True\n"
     ]
    }
   ],
   "source": [
    "a = 5\n",
    "print(a == 6)\n",
    "print(a < 6)\n"
   ]
  },
  {
   "cell_type": "code",
   "execution_count": 73,
   "id": "9fa6dd91",
   "metadata": {
    "ExecuteTime": {
     "end_time": "2024-06-11T13:44:34.663268Z",
     "start_time": "2024-06-11T13:44:34.643213Z"
    }
   },
   "outputs": [
    {
     "data": {
      "text/plain": [
       "False"
      ]
     },
     "execution_count": 73,
     "metadata": {},
     "output_type": "execute_result"
    }
   ],
   "source": [
    "\"BB\" > 'bB'"
   ]
  },
  {
   "cell_type": "markdown",
   "id": "33ac8cfa",
   "metadata": {},
   "source": [
    "### IF\n",
    "\n",
    "The if statement analyzes a situation and decides whether to run a piece of code or not. This will depend on the values you specify in the if statement."
   ]
  },
  {
   "cell_type": "code",
   "execution_count": 75,
   "id": "a638ff96",
   "metadata": {
    "ExecuteTime": {
     "end_time": "2024-06-11T13:46:34.402417Z",
     "start_time": "2024-06-11T13:46:34.383471Z"
    }
   },
   "outputs": [
    {
     "name": "stdout",
     "output_type": "stream",
     "text": [
      "your are too young\n",
      "hi\n"
     ]
    }
   ],
   "source": [
    "#Testing different versions of if\n",
    "age = 17\n",
    "\n",
    "\n",
    "if (age > 18) and (age< 25):\n",
    "    print(\"you can enter the club\")\n",
    "elif age > 25:\n",
    "    print('please come in steemed lady')\n",
    "else:\n",
    "    print('your are too young')\n",
    "\n",
    "print(\"hi\")"
   ]
  },
  {
   "cell_type": "code",
   "execution_count": 76,
   "id": "2ac138c1",
   "metadata": {
    "ExecuteTime": {
     "end_time": "2024-06-11T13:47:37.934635Z",
     "start_time": "2024-06-11T13:47:37.929493Z"
    }
   },
   "outputs": [
    {
     "name": "stdout",
     "output_type": "stream",
     "text": [
      "your are too young\n",
      "Hi\n"
     ]
    }
   ],
   "source": [
    "#same as before\n",
    "age = 17\n",
    "\n",
    "\n",
    "if 25> age > 18:\n",
    "    print(\"you can enter the club\")\n",
    "elif age > 25:\n",
    "    print('please come in steemed lady')\n",
    "else:\n",
    "    print('your are too young')\n",
    "\n",
    "print(\"Hi\")"
   ]
  },
  {
   "cell_type": "code",
   "execution_count": 77,
   "id": "70c520e8",
   "metadata": {
    "ExecuteTime": {
     "end_time": "2024-06-11T13:48:58.948409Z",
     "start_time": "2024-06-11T13:48:58.930169Z"
    }
   },
   "outputs": [
    {
     "name": "stdout",
     "output_type": "stream",
     "text": [
      "you can enter the club\n",
      "Hi\n"
     ]
    }
   ],
   "source": [
    "#Using OR, the result is tahta anyone can enter and the elif and else will never come into effect\n",
    "\n",
    "age = 17\n",
    "\n",
    "if (age > 18) or (age< 25):\n",
    "    print(\"you can enter the club\")\n",
    "elif age > 25:\n",
    "    print('please come in steemed lady')\n",
    "else:\n",
    "    print('your are too young')\n",
    "\n",
    "print(\"Hi\")"
   ]
  },
  {
   "cell_type": "code",
   "execution_count": 78,
   "id": "19f85af6",
   "metadata": {
    "ExecuteTime": {
     "end_time": "2024-06-11T13:49:46.716459Z",
     "start_time": "2024-06-11T13:49:46.697409Z"
    }
   },
   "outputs": [
    {
     "name": "stdout",
     "output_type": "stream",
     "text": [
      "your are too young\n",
      "Hi\n"
     ]
    }
   ],
   "source": [
    "#Trying the NOT\n",
    "age = 17\n",
    "\n",
    "if not (age < 18):\n",
    "    print(\"you can enter the club\")\n",
    "elif age > 25:\n",
    "    print('please come in steemed lady')\n",
    "else:\n",
    "    print('your are too young')\n",
    "\n",
    "print(\"Hi\")"
   ]
  },
  {
   "cell_type": "markdown",
   "id": "a423173d",
   "metadata": {},
   "source": [
    "## Loops\n",
    "\n",
    "Loops are basically making the computer repeat a process over and over again until a condition is met that stops it.\n",
    "This is useful for analyzing large amounts of data automatically\n",
    "\n",
    "We will look at two types of loops: While and For\n",
    "\n",
    "It is advisable to first recognize the range() object. One way to understand this object is as an ordered list."
   ]
  },
  {
   "cell_type": "code",
   "execution_count": 81,
   "id": "3af2bfcf",
   "metadata": {
    "ExecuteTime": {
     "end_time": "2024-06-11T13:51:29.763013Z",
     "start_time": "2024-06-11T13:51:29.752080Z"
    }
   },
   "outputs": [
    {
     "data": {
      "text/plain": [
       "range(0, 3)"
      ]
     },
     "execution_count": 81,
     "metadata": {},
     "output_type": "execute_result"
    }
   ],
   "source": [
    "#We will create a range with all the elements from 0 to 2 (this has 3 elements but always starts from zero)\n",
    "\n",
    "range(3)"
   ]
  },
  {
   "cell_type": "code",
   "execution_count": 82,
   "id": "96247e2e",
   "metadata": {
    "ExecuteTime": {
     "end_time": "2024-06-11T13:51:52.560330Z",
     "start_time": "2024-06-11T13:51:52.549360Z"
    }
   },
   "outputs": [
    {
     "name": "stdout",
     "output_type": "stream",
     "text": [
      "1982\n",
      "1980\n",
      "1973\n"
     ]
    }
   ],
   "source": [
    "#Example of FOR loop\n",
    "\n",
    "years = [1982, 1980, 1973]\n",
    "\n",
    "N=len(years)\n",
    "\n",
    "for i in range(N):\n",
    "    print(years[i])"
   ]
  },
  {
   "cell_type": "markdown",
   "id": "6587dec4",
   "metadata": {},
   "source": [
    "Here we ask the computer to calculate with len the number of elements in the years object.\n",
    "Then through a for loop we ask it to iterate for each value of i within a range() equal to the number of elements in the year object.\n",
    "\n",
    "In each iteration the computer will print the i-th element of the years object."
   ]
  },
  {
   "cell_type": "code",
   "execution_count": 83,
   "id": "9ec6085c",
   "metadata": {
    "ExecuteTime": {
     "end_time": "2024-06-11T13:53:23.761393Z",
     "start_time": "2024-06-11T13:53:23.744165Z"
    }
   },
   "outputs": [
    {
     "name": "stdout",
     "output_type": "stream",
     "text": [
      "2\n",
      "4\n",
      "6\n"
     ]
    }
   ],
   "source": [
    "# Another example of FOR. Here we specify that the range starts at another value and ends at a specific one.\n",
    "# The third value of the range command tells us how the counter will move, it can be two by two, etc.\n",
    "# Range always asks for integers!\n",
    "\n",
    "for i in range(2,8,2):\n",
    "    print(i)"
   ]
  },
  {
   "cell_type": "code",
   "execution_count": 84,
   "id": "7e953655",
   "metadata": {
    "ExecuteTime": {
     "end_time": "2024-06-11T13:53:50.079607Z",
     "start_time": "2024-06-11T13:53:50.072593Z"
    }
   },
   "outputs": [
    {
     "name": "stdout",
     "output_type": "stream",
     "text": [
      "1982\n",
      "1980\n",
      "1973\n"
     ]
    }
   ],
   "source": [
    "#example of intuitive FOR\n",
    "\n",
    "for date in years:\n",
    "    print(date)"
   ]
  },
  {
   "cell_type": "code",
   "execution_count": 86,
   "id": "2cc2713f",
   "metadata": {
    "ExecuteTime": {
     "end_time": "2024-06-11T13:55:43.802415Z",
     "start_time": "2024-06-11T13:55:43.784106Z"
    }
   },
   "outputs": [
    {
     "name": "stdout",
     "output_type": "stream",
     "text": [
      "['red', 'yellow', 'blue', 'green', 'purple']\n",
      "before we start the color is  red\n",
      "New color is  white\n",
      "before we start the color is  yellow\n",
      "New color is  white\n",
      "before we start the color is  blue\n",
      "New color is  white\n",
      "before we start the color is  green\n",
      "New color is  white\n",
      "before we start the color is  purple\n",
      "New color is  white\n",
      "['white', 'white', 'white', 'white', 'white']\n"
     ]
    }
   ],
   "source": [
    "#Let's do something with the list elements using FOR\n",
    "\n",
    "squares = ['red', 'yellow', 'blue', 'green', 'purple']\n",
    "\n",
    "print(squares)\n",
    "for i in range(len(squares)):\n",
    "    print('before we start the color is ', squares[i])\n",
    "    squares[i] = 'white'\n",
    "    print(\"New color is \", squares[i])\n",
    "    \n",
    "print(squares)"
   ]
  },
  {
   "cell_type": "markdown",
   "id": "259ba1ec",
   "metadata": {},
   "source": [
    "### While Loop\n",
    "\n",
    "This type of loop runs forever until a condition is met."
   ]
  },
  {
   "cell_type": "code",
   "execution_count": 87,
   "id": "334798e9",
   "metadata": {
    "ExecuteTime": {
     "end_time": "2024-06-11T13:56:54.847052Z",
     "start_time": "2024-06-11T13:56:54.834945Z"
    }
   },
   "outputs": [
    {
     "name": "stdout",
     "output_type": "stream",
     "text": [
      "1982\n",
      "1980\n",
      "It took  2  times to get out of the loop\n"
     ]
    }
   ],
   "source": [
    "#Example\n",
    "\n",
    "dates = [1982, 1980, 1973, 2000]\n",
    "\n",
    "i=0\n",
    "year = dates[0]\n",
    "\n",
    "while (year != 1973):\n",
    "    print(year)\n",
    "    i=i+1\n",
    "    year = dates[i]\n",
    "    \n",
    "print('It took ', i, ' times to get out of the loop')"
   ]
  }
 ],
 "metadata": {
  "kernelspec": {
   "display_name": "Python 3",
   "language": "python",
   "name": "python3"
  },
  "language_info": {
   "codemirror_mode": {
    "name": "ipython",
    "version": 3
   },
   "file_extension": ".py",
   "mimetype": "text/x-python",
   "name": "python",
   "nbconvert_exporter": "python",
   "pygments_lexer": "ipython3",
   "version": "3.8.8"
  }
 },
 "nbformat": 4,
 "nbformat_minor": 5
}
