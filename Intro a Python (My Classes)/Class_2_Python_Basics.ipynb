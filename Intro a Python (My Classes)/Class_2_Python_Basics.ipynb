{
 "cells": [
  {
   "cell_type": "markdown",
   "id": "44be2236",
   "metadata": {},
   "source": [
    "# Class 2a: Functions, Documentation & Try Except"
   ]
  },
  {
   "cell_type": "markdown",
   "id": "3ac56252",
   "metadata": {
    "heading_collapsed": true
   },
   "source": [
    "## Review Loops\n",
    "\n",
    "The two most common types of loops in Python are the \"for\" and the \"while\" loops.\n",
    "\n",
    "For the for loop you need a range to iterate over and the values on which the operations will be performed. The loop repeats until the range is exhausted. This loop is mainly used when you have all the data and you want to perform an action on all of it (or a known amount of it).\n",
    "\n",
    "For the while loop you need a variable that will be evaluated against a condition. The loop repeats until a condition is met. The while loop is mainly used when we DO NOT KNOW how many times it is necessary to perform the same action on the variables."
   ]
  },
  {
   "cell_type": "code",
   "execution_count": 1,
   "id": "538f3ed7",
   "metadata": {
    "ExecuteTime": {
     "end_time": "2021-07-02T21:03:14.799127Z",
     "start_time": "2021-07-02T21:03:14.782172Z"
    },
    "hidden": true
   },
   "outputs": [
    {
     "name": "stdout",
     "output_type": "stream",
     "text": [
      "antes de que pase algo el color es  rojo\n",
      "Nuevo color es  blanco\n",
      "antes de que pase algo el color es  amarillo\n",
      "Nuevo color es  blanco\n",
      "antes de que pase algo el color es  azul\n",
      "Nuevo color es  blanco\n",
      "antes de que pase algo el color es  verde\n",
      "Nuevo color es  blanco\n",
      "antes de que pase algo el color es  morado\n",
      "Nuevo color es  blanco\n"
     ]
    }
   ],
   "source": [
    "#Ejemplo de loop for\n",
    "\n",
    "cuadrados = ['rojo', 'amarillo', 'azul', 'verde', 'morado']\n",
    "\n",
    "for i in range(len(cuadrados)):\n",
    "    print('antes de que pase algo el color es ', cuadrados[i])\n",
    "    cuadrados[i] = 'blanco'\n",
    "    print(\"Nuevo color es \", cuadrados[i])"
   ]
  },
  {
   "cell_type": "code",
   "execution_count": 2,
   "id": "02011376",
   "metadata": {
    "ExecuteTime": {
     "end_time": "2021-07-02T21:04:13.350300Z",
     "start_time": "2021-07-02T21:04:13.336299Z"
    },
    "hidden": true
   },
   "outputs": [
    {
     "name": "stdout",
     "output_type": "stream",
     "text": [
      "1982\n",
      "1980\n",
      "Demoró  2  veces en salir de este loop\n"
     ]
    }
   ],
   "source": [
    "#Ejemplo de while\n",
    "\n",
    "fechas = [1982, 1980, 1973, 2000]\n",
    "\n",
    "i=0\n",
    "año = fechas[0]\n",
    "\n",
    "while (año != 1973):\n",
    "    print(año)\n",
    "    i=i+1\n",
    "    año = fechas[i]\n",
    "    \n",
    "print('Demoró ', i, ' veces en salir de este loop')"
   ]
  },
  {
   "cell_type": "markdown",
   "id": "8103de0c",
   "metadata": {},
   "source": [
    "## Documentation\n",
    "\n",
    "Python has two types of documentations\n",
    "\n",
    "- Official Documentation: Information about every pre-defined aspect of python; this can be easily found at docs.python.org alternatively with the command \"help()\" one can get a quick guide on the command one places in parentheses. i.g., help(range)\n",
    "- Self-Documentation: Using the # symbol, one can add text to any block of code that will not be read by the Python interpreter. This is called \"commenting out the code.\" This documentation is intended to explain what the block does and how it fits into the overall program. Creating self-documentation is an excellent strategy, highly recommended by programmers. Code is rarely self-explanatory and without a guide it is very tedious to understand, so when we pass our code to someone else it is good practice to include self-documentation. But, even if the code is only for our own use it is important to write documentation, because a lot of time can pass between uses and memory is fragile. Writing clean, tidy and documented code is the best practice one can have."
   ]
  },
  {
   "cell_type": "code",
   "execution_count": 2,
   "id": "dc10a19f",
   "metadata": {
    "ExecuteTime": {
     "end_time": "2024-06-11T14:01:41.821688Z",
     "start_time": "2024-06-11T14:01:41.811491Z"
    }
   },
   "outputs": [
    {
     "name": "stdout",
     "output_type": "stream",
     "text": [
      "Help on class range in module builtins:\n",
      "\n",
      "class range(object)\n",
      " |  range(stop) -> range object\n",
      " |  range(start, stop[, step]) -> range object\n",
      " |  \n",
      " |  Return an object that produces a sequence of integers from start (inclusive)\n",
      " |  to stop (exclusive) by step.  range(i, j) produces i, i+1, i+2, ..., j-1.\n",
      " |  start defaults to 0, and stop is omitted!  range(4) produces 0, 1, 2, 3.\n",
      " |  These are exactly the valid indices for a list of 4 elements.\n",
      " |  When step is given, it specifies the increment (or decrement).\n",
      " |  \n",
      " |  Methods defined here:\n",
      " |  \n",
      " |  __bool__(self, /)\n",
      " |      self != 0\n",
      " |  \n",
      " |  __contains__(self, key, /)\n",
      " |      Return key in self.\n",
      " |  \n",
      " |  __eq__(self, value, /)\n",
      " |      Return self==value.\n",
      " |  \n",
      " |  __ge__(self, value, /)\n",
      " |      Return self>=value.\n",
      " |  \n",
      " |  __getattribute__(self, name, /)\n",
      " |      Return getattr(self, name).\n",
      " |  \n",
      " |  __getitem__(self, key, /)\n",
      " |      Return self[key].\n",
      " |  \n",
      " |  __gt__(self, value, /)\n",
      " |      Return self>value.\n",
      " |  \n",
      " |  __hash__(self, /)\n",
      " |      Return hash(self).\n",
      " |  \n",
      " |  __iter__(self, /)\n",
      " |      Implement iter(self).\n",
      " |  \n",
      " |  __le__(self, value, /)\n",
      " |      Return self<=value.\n",
      " |  \n",
      " |  __len__(self, /)\n",
      " |      Return len(self).\n",
      " |  \n",
      " |  __lt__(self, value, /)\n",
      " |      Return self<value.\n",
      " |  \n",
      " |  __ne__(self, value, /)\n",
      " |      Return self!=value.\n",
      " |  \n",
      " |  __reduce__(...)\n",
      " |      Helper for pickle.\n",
      " |  \n",
      " |  __repr__(self, /)\n",
      " |      Return repr(self).\n",
      " |  \n",
      " |  __reversed__(...)\n",
      " |      Return a reverse iterator.\n",
      " |  \n",
      " |  count(...)\n",
      " |      rangeobject.count(value) -> integer -- return number of occurrences of value\n",
      " |  \n",
      " |  index(...)\n",
      " |      rangeobject.index(value) -> integer -- return index of value.\n",
      " |      Raise ValueError if the value is not present.\n",
      " |  \n",
      " |  ----------------------------------------------------------------------\n",
      " |  Static methods defined here:\n",
      " |  \n",
      " |  __new__(*args, **kwargs) from builtins.type\n",
      " |      Create and return a new object.  See help(type) for accurate signature.\n",
      " |  \n",
      " |  ----------------------------------------------------------------------\n",
      " |  Data descriptors defined here:\n",
      " |  \n",
      " |  start\n",
      " |  \n",
      " |  step\n",
      " |  \n",
      " |  stop\n",
      "\n"
     ]
    }
   ],
   "source": [
    "#Example of official documentation you can access within python\n",
    "\n",
    "help(range)"
   ]
  },
  {
   "cell_type": "code",
   "execution_count": 4,
   "id": "e2e45986",
   "metadata": {
    "ExecuteTime": {
     "end_time": "2024-06-11T14:03:00.312287Z",
     "start_time": "2024-06-11T14:03:00.304169Z"
    }
   },
   "outputs": [
    {
     "name": "stdout",
     "output_type": "stream",
     "text": [
      "9\n"
     ]
    }
   ],
   "source": [
    "#Example of # in code blocks\n",
    "\n",
    "#This code creates 3 variables that are then added\n",
    "a=3 #1rs variable\n",
    "b=2 #2nd variable\n",
    "c=4 #3rd variable\n",
    "d=a+b+c #the variable contains the addition\n",
    "#we print the result\n",
    "print(d)\n"
   ]
  },
  {
   "cell_type": "markdown",
   "id": "a8c9a692",
   "metadata": {},
   "source": [
    "## Functions\n",
    "\n",
    "Functions are reusable blocks of code that perform actions defined within the function. The beauty of it is that they allow you to write code in parts and then reuse it as many times as you want.\n",
    "\n",
    "There are two types of functions: PRE-DEFINED and USER-DEFINED\n",
    "\n",
    "- Function blocks start with \"def\" followed by the name and a parenthesis().\n",
    "- There are input parameters or arguments that must be placed within the parentheses.\n",
    "- You can also define parameters within the parentheses.\n",
    "- There is a body within each function that starts with a colon (:) and is indented.\n",
    "- You can also write the documentation before the body\n",
    "- The function ends with \"return\", it can optionally return a value."
   ]
  },
  {
   "cell_type": "code",
   "execution_count": 7,
   "id": "9f5fa4b4",
   "metadata": {
    "ExecuteTime": {
     "end_time": "2024-06-11T14:05:16.643886Z",
     "start_time": "2024-06-11T14:05:16.626791Z"
    }
   },
   "outputs": [],
   "source": [
    "# Example of function\n",
    "\n",
    "def sumfive(a):\n",
    "    #Documentation of the function\n",
    "    #The function takes the number a (supplied by the user), adds 5 to it and stores it in b.\n",
    "    #Then it prints the result of the sum on the screen.\n",
    "    b = a + 5\n",
    "    print(a, \" + 5 = \",b)\n",
    "    return"
   ]
  },
  {
   "cell_type": "code",
   "execution_count": 8,
   "id": "918e53e8",
   "metadata": {
    "ExecuteTime": {
     "end_time": "2024-06-11T14:05:17.298650Z",
     "start_time": "2024-06-11T14:05:17.285474Z"
    }
   },
   "outputs": [
    {
     "name": "stdout",
     "output_type": "stream",
     "text": [
      "8  + 5 =  13\n"
     ]
    }
   ],
   "source": [
    "sumfive(8)"
   ]
  },
  {
   "cell_type": "code",
   "execution_count": 9,
   "id": "c8c7a320",
   "metadata": {
    "ExecuteTime": {
     "end_time": "2024-06-11T14:06:12.072534Z",
     "start_time": "2024-06-11T14:06:12.059506Z"
    }
   },
   "outputs": [],
   "source": [
    "# 2nd Example\n",
    "\n",
    "def sumsix(a):\n",
    "    #Function documentation\n",
    "    #The function takes the number a (supplied by the user), adds 6 to it, and stores it in b.\n",
    "    #Then it prints the result of the sum on the screen.\n",
    "    #Finally it returns the value of the result supplied in b\n",
    "    b = a + 6\n",
    "    print(a, \" + 6 = \",b)\n",
    "    return b"
   ]
  },
  {
   "cell_type": "code",
   "execution_count": 14,
   "id": "77693d89",
   "metadata": {
    "ExecuteTime": {
     "end_time": "2024-06-11T14:07:16.548400Z",
     "start_time": "2024-06-11T14:07:16.542313Z"
    }
   },
   "outputs": [
    {
     "name": "stdout",
     "output_type": "stream",
     "text": [
      "4  + 6 =  10\n",
      "10\n"
     ]
    }
   ],
   "source": [
    "c= sumsix(4)\n",
    "print(c)"
   ]
  },
  {
   "cell_type": "markdown",
   "id": "4a1e0a16",
   "metadata": {},
   "source": [
    "### Executing\n",
    "Once defined and executed, the function can be called elsewhere in the program. To do this, you only need to write the name of the function followed by parentheses (), inside which the function arguments will be placed.\n",
    "When you call help on a user-created function, the result is that it tells you under which module it is located\n",
    "and how the function should be called. This only works once the function has been compiled (executed)."
   ]
  },
  {
   "cell_type": "code",
   "execution_count": 15,
   "id": "52b27527",
   "metadata": {
    "ExecuteTime": {
     "end_time": "2024-06-11T14:08:17.283918Z",
     "start_time": "2024-06-11T14:08:17.273980Z"
    }
   },
   "outputs": [
    {
     "name": "stdout",
     "output_type": "stream",
     "text": [
      "Help on function sumfive in module __main__:\n",
      "\n",
      "sumfive(a)\n",
      "\n"
     ]
    }
   ],
   "source": [
    "#Help on a custom function\n",
    "help(sumfive)"
   ]
  },
  {
   "cell_type": "code",
   "execution_count": 17,
   "id": "d5589fb0",
   "metadata": {
    "ExecuteTime": {
     "end_time": "2024-06-11T14:08:37.012759Z",
     "start_time": "2024-06-11T14:08:37.000624Z"
    }
   },
   "outputs": [
    {
     "name": "stdout",
     "output_type": "stream",
     "text": [
      "4  + 5 =  9\n"
     ]
    }
   ],
   "source": [
    "#calling sumfive. \n",
    "\n",
    "sumfive(4)"
   ]
  },
  {
   "cell_type": "code",
   "execution_count": 19,
   "id": "c2e45584",
   "metadata": {
    "ExecuteTime": {
     "end_time": "2024-06-11T14:09:33.444883Z",
     "start_time": "2024-06-11T14:09:33.434913Z"
    }
   },
   "outputs": [
    {
     "name": "stdout",
     "output_type": "stream",
     "text": [
      "4  + 6 =  10\n",
      "Printing the variable var  10\n"
     ]
    }
   ],
   "source": [
    "#Calling user-defined function sumsix. This way of calling the function will execute it and save its return\n",
    "#in a variable called var.\n",
    "\n",
    "var=sumsix(4)\n",
    "\n",
    "print('Printing the variable var ', var)"
   ]
  },
  {
   "cell_type": "markdown",
   "id": "d3a3c720",
   "metadata": {},
   "source": [
    "### More Complexity \n",
    "\n",
    "- The input arguments of a function are called \"formal parameters\". Functions can have more than one formal parameter.\n",
    "- Variables declared within a function are called local variables and only exist within the function for internal use.\n",
    "- There are also global variables, which are defined outside of functions and can be used and modified throughout the entire program (even within functions). Within a function we can create global variables but this must be done in a specific way using the \"global\" command."
   ]
  },
  {
   "cell_type": "code",
   "execution_count": 20,
   "id": "70f8ee95",
   "metadata": {
    "ExecuteTime": {
     "end_time": "2024-06-11T14:23:12.886416Z",
     "start_time": "2024-06-11T14:23:12.862289Z"
    }
   },
   "outputs": [
    {
     "name": "stdout",
     "output_type": "stream",
     "text": [
      "the function did not return a result on the screen\n"
     ]
    }
   ],
   "source": [
    "#Ex two variable function\n",
    "\n",
    "def mult(a,b):\n",
    "    #Function that multiplies a and b (supplied by user) and then returns the result in the result variable\n",
    "    resultado=a*b\n",
    "    return resultado\n",
    "\n",
    "#when we call the mult function directly the result will not be saved, nor will it be printed on the screen.\n",
    "#This is because we are only executing it and there is no print() inside it\n",
    "\n",
    "mult(2,3)\n",
    "\n",
    "print('the function did not return a result on the screen')"
   ]
  },
  {
   "cell_type": "code",
   "execution_count": 23,
   "id": "d6246902",
   "metadata": {
    "ExecuteTime": {
     "end_time": "2024-06-11T14:23:44.966855Z",
     "start_time": "2024-06-11T14:23:44.942676Z"
    }
   },
   "outputs": [
    {
     "ename": "NameError",
     "evalue": "name 'resultado' is not defined",
     "output_type": "error",
     "traceback": [
      "\u001b[1;31m---------------------------------------------------------------------------\u001b[0m",
      "\u001b[1;31mNameError\u001b[0m                                 Traceback (most recent call last)",
      "\u001b[1;32m<ipython-input-23-d3049145e9ca>\u001b[0m in \u001b[0;36m<module>\u001b[1;34m\u001b[0m\n\u001b[0;32m      1\u001b[0m \u001b[1;31m# If we call the local variable of the function we will get an error,\u001b[0m\u001b[1;33m\u001b[0m\u001b[1;33m\u001b[0m\u001b[1;33m\u001b[0m\u001b[0m\n\u001b[0;32m      2\u001b[0m \u001b[1;31m# because that variable does not exist outside the function\u001b[0m\u001b[1;33m\u001b[0m\u001b[1;33m\u001b[0m\u001b[1;33m\u001b[0m\u001b[0m\n\u001b[1;32m----> 3\u001b[1;33m \u001b[0mprint\u001b[0m\u001b[1;33m(\u001b[0m\u001b[0mresultado\u001b[0m\u001b[1;33m)\u001b[0m\u001b[1;33m\u001b[0m\u001b[1;33m\u001b[0m\u001b[0m\n\u001b[0m",
      "\u001b[1;31mNameError\u001b[0m: name 'resultado' is not defined"
     ]
    }
   ],
   "source": [
    "# If we call the local variable of the function we will get an error, \n",
    "# because that variable does not exist outside the function\n",
    "print(resultado)"
   ]
  },
  {
   "cell_type": "code",
   "execution_count": 24,
   "id": "f79d21e2",
   "metadata": {
    "ExecuteTime": {
     "end_time": "2024-06-11T14:23:57.781154Z",
     "start_time": "2024-06-11T14:23:57.768485Z"
    }
   },
   "outputs": [
    {
     "name": "stdout",
     "output_type": "stream",
     "text": [
      "867300\n"
     ]
    }
   ],
   "source": [
    "#We can save the result of a function in a global variable when calling the function\n",
    "\n",
    "c=mult(700,1239)\n",
    "print(c)"
   ]
  },
  {
   "cell_type": "code",
   "execution_count": 26,
   "id": "3954644c",
   "metadata": {
    "ExecuteTime": {
     "end_time": "2024-06-11T14:25:54.281843Z",
     "start_time": "2024-06-11T14:25:54.269666Z"
    }
   },
   "outputs": [],
   "source": [
    "#We create a function with global internal variables and we see that these variables can be called outside the function\n",
    "\n",
    "def globalvar(a):\n",
    "    #This function creates a global variable \"b\", takes the input value, multiplies it by 3 and stores it in j\n",
    "    global j \n",
    "    j= a*3\n",
    "    f = a*3 #This is NOT a global variable. ONLY LOCAL.\n",
    "    return\n",
    "\n",
    "#we execute the function, note that nothing is printed on the screen: The function does not provide a return variable\n",
    "\n",
    "globalvar(15)"
   ]
  },
  {
   "cell_type": "code",
   "execution_count": 27,
   "id": "05f318d6",
   "metadata": {
    "ExecuteTime": {
     "end_time": "2024-06-11T14:25:55.939258Z",
     "start_time": "2024-06-11T14:25:55.931216Z"
    }
   },
   "outputs": [
    {
     "name": "stdout",
     "output_type": "stream",
     "text": [
      "45\n",
      "46\n"
     ]
    }
   ],
   "source": [
    "#We check that the variable b is indeed global\n",
    "\n",
    "print(j)\n",
    "j=j+1\n",
    "print(j)"
   ]
  },
  {
   "cell_type": "code",
   "execution_count": 28,
   "id": "f29c8344",
   "metadata": {
    "ExecuteTime": {
     "end_time": "2024-06-11T14:27:14.595319Z",
     "start_time": "2024-06-11T14:27:14.581236Z"
    }
   },
   "outputs": [
    {
     "data": {
      "text/plain": [
       "'MouseMouseMouse'"
      ]
     },
     "execution_count": 28,
     "metadata": {},
     "output_type": "execute_result"
    }
   ],
   "source": [
    "#We use an external global variable, inside a function\n",
    "\n",
    "variable_global = 'Mouse'\n",
    "\n",
    "def prueba(a):\n",
    "#Function that multiplies the \"global_variable\" times a, saves it in the local variable b and returns it as the result\n",
    "    b=a*variable_global\n",
    "    return b\n",
    "\n",
    "#We run the function test. Note that this is printed on the screen because it returns b and is the last\n",
    "#line of the block in jupyter notebook (outside jupyter it does not print anything)\n",
    "prueba(3)"
   ]
  },
  {
   "cell_type": "markdown",
   "id": "82367ca0",
   "metadata": {},
   "source": [
    "Sometimes we do not know how many arguments we will need to enter into the function, for that we can specify that they are admitted as a tuple or a dictionary by using asterisks (*)."
   ]
  },
  {
   "cell_type": "code",
   "execution_count": 29,
   "id": "c6f2c03e",
   "metadata": {
    "ExecuteTime": {
     "end_time": "2024-06-11T14:30:42.687664Z",
     "start_time": "2024-06-11T14:30:42.672479Z"
    }
   },
   "outputs": [
    {
     "name": "stdout",
     "output_type": "stream",
     "text": [
      "# of arguments: 5\n",
      "rojo\n",
      "azul\n",
      "blanco\n",
      "amarillo\n",
      "verde\n"
     ]
    }
   ],
   "source": [
    "#Example of a function that takes arguments inside a tuple\n",
    "def printAll(*args): \n",
    "    # All arguments are \"trapped\" in args, which can be treated as a tuple.\n",
    "    print(\"# of arguments:\", len(args)) \n",
    "    for argument in args:\n",
    "        print(argument)\n",
    "#printAll with 3 arguments\n",
    "#printAll('red','blue','white')\n",
    "#printAll with 5 arguments\n",
    "printAll('rojo','azul','blanco','amarillo','verde')"
   ]
  },
  {
   "cell_type": "code",
   "execution_count": 30,
   "id": "99871baa",
   "metadata": {
    "ExecuteTime": {
     "end_time": "2024-06-11T14:31:24.632233Z",
     "start_time": "2024-06-11T14:31:24.616229Z"
    }
   },
   "outputs": [
    {
     "name": "stdout",
     "output_type": "stream",
     "text": [
      "Country : Chile\n",
      "Region : Biobío\n",
      "City : Concepción\n"
     ]
    }
   ],
   "source": [
    "#Example of a function that takes arguments inside a dictionary\n",
    "def printDict(**args):\n",
    "    for key in args:\n",
    "        print(key + \" : \" + args[key])\n",
    "\n",
    "printDict(Country='Chile',Region='Biobío',City='Concepción')"
   ]
  },
  {
   "cell_type": "markdown",
   "id": "fe46a950",
   "metadata": {},
   "source": [
    "## Exception Management\n",
    "\n",
    "An exception is an error that occurs when running code. When an error generates an exception, if the code is not prepared to handle it, it will stop executing."
   ]
  },
  {
   "cell_type": "code",
   "execution_count": 31,
   "id": "dc8b1bb3",
   "metadata": {
    "ExecuteTime": {
     "end_time": "2024-06-11T14:31:59.520931Z",
     "start_time": "2024-06-11T14:31:59.504708Z"
    }
   },
   "outputs": [
    {
     "ename": "ZeroDivisionError",
     "evalue": "division by zero",
     "output_type": "error",
     "traceback": [
      "\u001b[1;31m---------------------------------------------------------------------------\u001b[0m",
      "\u001b[1;31mZeroDivisionError\u001b[0m                         Traceback (most recent call last)",
      "\u001b[1;32m<ipython-input-31-bc0c889a1062>\u001b[0m in \u001b[0;36m<module>\u001b[1;34m\u001b[0m\n\u001b[0;32m      1\u001b[0m \u001b[1;31m#Example of exception\u001b[0m\u001b[1;33m\u001b[0m\u001b[1;33m\u001b[0m\u001b[1;33m\u001b[0m\u001b[0m\n\u001b[0;32m      2\u001b[0m \u001b[1;33m\u001b[0m\u001b[0m\n\u001b[1;32m----> 3\u001b[1;33m \u001b[1;36m1\u001b[0m\u001b[1;33m/\u001b[0m\u001b[1;36m0\u001b[0m\u001b[1;33m\u001b[0m\u001b[1;33m\u001b[0m\u001b[0m\n\u001b[0m",
      "\u001b[1;31mZeroDivisionError\u001b[0m: division by zero"
     ]
    }
   ],
   "source": [
    "#Example of exception\n",
    "\n",
    "1/0"
   ]
  },
  {
   "cell_type": "code",
   "execution_count": 32,
   "id": "6096d943",
   "metadata": {
    "ExecuteTime": {
     "end_time": "2024-06-11T14:32:08.291534Z",
     "start_time": "2024-06-11T14:32:08.269336Z"
    }
   },
   "outputs": [
    {
     "ename": "NameError",
     "evalue": "name 'z' is not defined",
     "output_type": "error",
     "traceback": [
      "\u001b[1;31m---------------------------------------------------------------------------\u001b[0m",
      "\u001b[1;31mNameError\u001b[0m                                 Traceback (most recent call last)",
      "\u001b[1;32m<ipython-input-32-07c54a99c8aa>\u001b[0m in \u001b[0;36m<module>\u001b[1;34m\u001b[0m\n\u001b[0;32m      1\u001b[0m \u001b[1;31m# Another example\u001b[0m\u001b[1;33m\u001b[0m\u001b[1;33m\u001b[0m\u001b[1;33m\u001b[0m\u001b[0m\n\u001b[0;32m      2\u001b[0m \u001b[1;33m\u001b[0m\u001b[0m\n\u001b[1;32m----> 3\u001b[1;33m \u001b[0my\u001b[0m \u001b[1;33m=\u001b[0m \u001b[0mz\u001b[0m\u001b[1;33m+\u001b[0m\u001b[1;36m5\u001b[0m\u001b[1;33m\u001b[0m\u001b[1;33m\u001b[0m\u001b[0m\n\u001b[0m\u001b[0;32m      4\u001b[0m \u001b[0mprint\u001b[0m\u001b[1;33m(\u001b[0m\u001b[0my\u001b[0m\u001b[1;33m)\u001b[0m\u001b[1;33m\u001b[0m\u001b[1;33m\u001b[0m\u001b[0m\n",
      "\u001b[1;31mNameError\u001b[0m: name 'z' is not defined"
     ]
    }
   ],
   "source": [
    "# Another example\n",
    "\n",
    "y = z+5\n",
    "print(y)"
   ]
  },
  {
   "cell_type": "markdown",
   "id": "86f22434",
   "metadata": {},
   "source": [
    "### Try Except\n",
    "\n",
    "A try except will allow you to run code that might throw an exception and in case there is any exception or a specific one, it can be handled/caught and specific code executed. This will allow us to continue with the execution of the program even if there are exceptions\n",
    "\n",
    "Python tries to execute code in try blocks. In this case. If the code raises an exception during the try block, then the ecxept block will be executed handling the raised exception. Then the program will continue to execute what comes after the whole try except.\n",
    "\n",
    "In the following example we will divide the number a by a value given by the user. The result will be saved in the variable a which will then be printed on the screen. Due to the nature of the operation there are times when this code can give errors and for that we have exception handling"
   ]
  },
  {
   "cell_type": "code",
   "execution_count": 35,
   "id": "62708196",
   "metadata": {
    "ExecuteTime": {
     "end_time": "2024-06-11T14:33:53.859327Z",
     "start_time": "2024-06-11T14:33:52.028796Z"
    }
   },
   "outputs": [
    {
     "name": "stdout",
     "output_type": "stream",
     "text": [
      "please input a number 0\n",
      "There was an error\n"
     ]
    }
   ],
   "source": [
    "a = 1\n",
    "\n",
    "try:\n",
    "    b = int(input(\"please input a number \"))\n",
    "    a = a/b\n",
    "    print(\"Success, a=\",a)\n",
    "except:\n",
    "    print(\"There was an error\")"
   ]
  },
  {
   "cell_type": "markdown",
   "id": "50c797e4",
   "metadata": {},
   "source": [
    "#### Specific Try Except\n",
    "\n",
    "A specific try except allows you to catch some exceptions and also execute certain code depending on the exception. This is useful if you don't want to deal with certain errors and the execution should stop. It also helps you find errors in your code that you might not know about, and can help you differentiate responses to different exceptions. In this case the code after the try except might not be executed depending on the error.\n",
    "\n",
    "Below are two protocol examples"
   ]
  },
  {
   "cell_type": "code",
   "execution_count": null,
   "id": "53917520",
   "metadata": {
    "ExecuteTime": {
     "end_time": "2021-07-02T03:52:56.474880Z",
     "start_time": "2021-07-02T03:52:56.468380Z"
    }
   },
   "outputs": [],
   "source": [
    "#NOT RUN, ILLUSTRATIVE ONLY!!!\n",
    "# 1 --------------------------------------\n",
    "\n",
    "#Code before the try block\n",
    "\n",
    "try:\n",
    "    # code that try will run\n",
    "except (ZeroDivisionError, NameError):\n",
    "    # code that will run if one of these two errors occur\n",
    "    \n",
    "\n",
    "# code when there are no exceptions\n",
    "\n",
    "# 2 --------------------------------------------------------------------\n",
    "    \n",
    "#Code before the try block\n",
    "\n",
    "try:\n",
    "    # code that try will run\n",
    "except ZeroDivisionError:\n",
    "    # code that will run if there is a error due two divsion by 0 (ZeroDivisionError).\n",
    "except NameError:\n",
    "    # code that will run if there is a name error (NameError)\n",
    "    \n",
    "# code when there are no exceptions\n",
    "\n",
    "# 3 ------------------------------------------------------------------\n",
    "\n",
    "#Code before the try block\n",
    "\n",
    "try:\n",
    "    # code that try will run\n",
    "except ZeroDivisionError:\n",
    "    # code that will run if there is a error due two divsion by 0 (ZeroDivisionError).\n",
    "except NameError:\n",
    "    # code that will run if there is a name error (NameError)\n",
    "except:\n",
    "    # code that will run if there is any other error\n",
    "    \n",
    "# code when there are no exceptions"
   ]
  },
  {
   "cell_type": "code",
   "execution_count": 39,
   "id": "9f99d367",
   "metadata": {
    "ExecuteTime": {
     "end_time": "2024-06-11T14:39:31.736766Z",
     "start_time": "2024-06-11T14:39:23.384163Z"
    }
   },
   "outputs": [
    {
     "name": "stdout",
     "output_type": "stream",
     "text": [
      "input a number 2*3\n",
      "This is not a number...\n"
     ]
    }
   ],
   "source": [
    "#Example: a will be divided by a value entered by the user and we will handle possible errors\n",
    "\n",
    "a = 1\n",
    "\n",
    "try:\n",
    "    b = int(input(\"input a number \"))\n",
    "    a = a/b\n",
    "except ZeroDivisionError:\n",
    "    print(\"Can't dive by 0!!\")\n",
    "except ValueError:\n",
    "    print(\"This is not a number...\")\n",
    "except:\n",
    "    print(\"Something went wrong=(\")\n",
    "    "
   ]
  },
  {
   "cell_type": "markdown",
   "id": "343ce1ef",
   "metadata": {},
   "source": [
    "We can still add two more things: else and finally.\n",
    "\n",
    "Adding else allows us to execute code when no except is raised. If we notice, in the previous example, when there are no problems the number entered by the user is printed but not the result. Using else we could add the result.\n",
    "\n",
    "Adding finally allows us to execute a final code, regardless of whether or not there was an exception."
   ]
  },
  {
   "cell_type": "code",
   "execution_count": 42,
   "id": "4456a866",
   "metadata": {
    "ExecuteTime": {
     "end_time": "2024-06-11T14:41:44.483210Z",
     "start_time": "2024-06-11T14:41:41.863102Z"
    }
   },
   "outputs": [
    {
     "name": "stdout",
     "output_type": "stream",
     "text": [
      "input a number 0\n",
      "Can't dive by 0!!\n"
     ]
    }
   ],
   "source": [
    "#Example with else. We will divide the number a by a value provided by the user\n",
    "\n",
    "a = 1\n",
    "\n",
    "try:\n",
    "    b = int(input(\"input a number \"))\n",
    "    a = a/b\n",
    "except ZeroDivisionError:\n",
    "    print(\"Can't dive by 0!!\")\n",
    "except ValueError:\n",
    "    print(\"This is not a number...\")\n",
    "except:\n",
    "    print(\"Something went wrong=(\")\n",
    "else:\n",
    "    print(\"Success! a=\",a)"
   ]
  },
  {
   "cell_type": "code",
   "execution_count": 41,
   "id": "b5f1b52e",
   "metadata": {
    "ExecuteTime": {
     "end_time": "2024-06-11T14:41:37.567919Z",
     "start_time": "2024-06-11T14:41:34.783466Z"
    }
   },
   "outputs": [
    {
     "name": "stdout",
     "output_type": "stream",
     "text": [
      "input a number \n",
      "This is not a number...\n",
      "Prossesing complete\n"
     ]
    }
   ],
   "source": [
    "#Ejemplo con finally. dividiremos el número a por un valor entregado por el usuario\n",
    "a = 1\n",
    "\n",
    "try:\n",
    "    b = int(input(\"input a number \"))\n",
    "    a = a/b\n",
    "except ZeroDivisionError:\n",
    "    print(\"Can't dive by 0!!\")\n",
    "except ValueError:\n",
    "    print(\"This is not a number...\")\n",
    "except:\n",
    "    print(\"Something went wrong=(\")\n",
    "else:\n",
    "    print(\"Success! a=\",a)\n",
    "finally:\n",
    "    print('Prossesing complete')"
   ]
  }
 ],
 "metadata": {
  "kernelspec": {
   "display_name": "Python 3",
   "language": "python",
   "name": "python3"
  },
  "language_info": {
   "codemirror_mode": {
    "name": "ipython",
    "version": 3
   },
   "file_extension": ".py",
   "mimetype": "text/x-python",
   "name": "python",
   "nbconvert_exporter": "python",
   "pygments_lexer": "ipython3",
   "version": "3.8.8"
  }
 },
 "nbformat": 4,
 "nbformat_minor": 5
}
