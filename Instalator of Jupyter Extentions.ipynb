{
 "cells": [
  {
   "cell_type": "code",
   "execution_count": 1,
   "id": "f1b062a1",
   "metadata": {
    "ExecuteTime": {
     "end_time": "2021-07-24T05:36:44.981685Z",
     "start_time": "2021-07-24T05:36:34.526575Z"
    }
   },
   "outputs": [
    {
     "name": "stdout",
     "output_type": "stream",
     "text": [
      "Collecting jupyter_nbextensions_configurator\n",
      "  Using cached jupyter_nbextensions_configurator-0.4.1.tar.gz (479 kB)\n",
      "Collecting jupyter_contrib_core>=0.3.3\n",
      "  Using cached jupyter_contrib_core-0.3.3-py2.py3-none-any.whl (18 kB)\n",
      "Requirement already satisfied: jupyter_core in c:\\users\\jose\\anaconda3\\lib\\site-packages (from jupyter_nbextensions_configurator) (4.7.1)\n",
      "Requirement already satisfied: notebook>=4.0 in c:\\users\\jose\\anaconda3\\lib\\site-packages (from jupyter_nbextensions_configurator) (6.4.0)\n",
      "Requirement already satisfied: pyyaml in c:\\users\\jose\\anaconda3\\lib\\site-packages (from jupyter_nbextensions_configurator) (5.4.1)\n",
      "Requirement already satisfied: tornado in c:\\users\\jose\\anaconda3\\lib\\site-packages (from jupyter_nbextensions_configurator) (6.1)\n",
      "Requirement already satisfied: traitlets in c:\\users\\jose\\anaconda3\\lib\\site-packages (from jupyter_nbextensions_configurator) (5.0.5)\n",
      "Requirement already satisfied: setuptools in c:\\users\\jose\\anaconda3\\lib\\site-packages (from jupyter_contrib_core>=0.3.3->jupyter_nbextensions_configurator) (52.0.0.post20210125)\n",
      "Requirement already satisfied: ipython-genutils in c:\\users\\jose\\anaconda3\\lib\\site-packages (from notebook>=4.0->jupyter_nbextensions_configurator) (0.2.0)\n",
      "Requirement already satisfied: jinja2 in c:\\users\\jose\\anaconda3\\lib\\site-packages (from notebook>=4.0->jupyter_nbextensions_configurator) (3.0.0)\n",
      "Requirement already satisfied: argon2-cffi in c:\\users\\jose\\anaconda3\\lib\\site-packages (from notebook>=4.0->jupyter_nbextensions_configurator) (20.1.0)\n",
      "Requirement already satisfied: pyzmq>=17 in c:\\users\\jose\\anaconda3\\lib\\site-packages (from notebook>=4.0->jupyter_nbextensions_configurator) (20.0.0)\n",
      "Requirement already satisfied: nbconvert in c:\\users\\jose\\anaconda3\\lib\\site-packages (from notebook>=4.0->jupyter_nbextensions_configurator) (6.0.7)\n",
      "Requirement already satisfied: terminado>=0.8.3 in c:\\users\\jose\\anaconda3\\lib\\site-packages (from notebook>=4.0->jupyter_nbextensions_configurator) (0.9.4)\n",
      "Requirement already satisfied: jupyter-client>=5.3.4 in c:\\users\\jose\\anaconda3\\lib\\site-packages (from notebook>=4.0->jupyter_nbextensions_configurator) (6.1.12)\n",
      "Requirement already satisfied: nbformat in c:\\users\\jose\\anaconda3\\lib\\site-packages (from notebook>=4.0->jupyter_nbextensions_configurator) (5.1.3)\n",
      "Requirement already satisfied: prometheus-client in c:\\users\\jose\\anaconda3\\lib\\site-packages (from notebook>=4.0->jupyter_nbextensions_configurator) (0.11.0)\n",
      "Requirement already satisfied: Send2Trash>=1.5.0 in c:\\users\\jose\\anaconda3\\lib\\site-packages (from notebook>=4.0->jupyter_nbextensions_configurator) (1.5.0)\n",
      "Requirement already satisfied: ipykernel in c:\\users\\jose\\anaconda3\\lib\\site-packages (from notebook>=4.0->jupyter_nbextensions_configurator) (5.3.4)\n",
      "Requirement already satisfied: python-dateutil>=2.1 in c:\\users\\jose\\anaconda3\\lib\\site-packages (from jupyter-client>=5.3.4->notebook>=4.0->jupyter_nbextensions_configurator) (2.8.1)\n",
      "Requirement already satisfied: pywin32>=1.0 in c:\\users\\jose\\anaconda3\\lib\\site-packages (from jupyter_core->jupyter_nbextensions_configurator) (227)\n",
      "Requirement already satisfied: six>=1.5 in c:\\users\\jose\\anaconda3\\lib\\site-packages (from python-dateutil>=2.1->jupyter-client>=5.3.4->notebook>=4.0->jupyter_nbextensions_configurator) (1.15.0)\n",
      "Requirement already satisfied: pywinpty>=0.5 in c:\\users\\jose\\anaconda3\\lib\\site-packages (from terminado>=0.8.3->notebook>=4.0->jupyter_nbextensions_configurator) (0.5.7)\n",
      "Requirement already satisfied: cffi>=1.0.0 in c:\\users\\jose\\anaconda3\\lib\\site-packages (from argon2-cffi->notebook>=4.0->jupyter_nbextensions_configurator) (1.14.5)\n",
      "Requirement already satisfied: pycparser in c:\\users\\jose\\anaconda3\\lib\\site-packages (from cffi>=1.0.0->argon2-cffi->notebook>=4.0->jupyter_nbextensions_configurator) (2.20)\n",
      "Requirement already satisfied: ipython>=5.0.0 in c:\\users\\jose\\anaconda3\\lib\\site-packages (from ipykernel->notebook>=4.0->jupyter_nbextensions_configurator) (7.22.0)\n",
      "Requirement already satisfied: decorator in c:\\users\\jose\\anaconda3\\lib\\site-packages (from ipython>=5.0.0->ipykernel->notebook>=4.0->jupyter_nbextensions_configurator) (4.4.2)\n",
      "Requirement already satisfied: backcall in c:\\users\\jose\\anaconda3\\lib\\site-packages (from ipython>=5.0.0->ipykernel->notebook>=4.0->jupyter_nbextensions_configurator) (0.2.0)\n",
      "Requirement already satisfied: pickleshare in c:\\users\\jose\\anaconda3\\lib\\site-packages (from ipython>=5.0.0->ipykernel->notebook>=4.0->jupyter_nbextensions_configurator) (0.7.5)\n",
      "Requirement already satisfied: colorama in c:\\users\\jose\\anaconda3\\lib\\site-packages (from ipython>=5.0.0->ipykernel->notebook>=4.0->jupyter_nbextensions_configurator) (0.4.4)\n",
      "Requirement already satisfied: prompt-toolkit!=3.0.0,!=3.0.1,<3.1.0,>=2.0.0 in c:\\users\\jose\\anaconda3\\lib\\site-packages (from ipython>=5.0.0->ipykernel->notebook>=4.0->jupyter_nbextensions_configurator) (3.0.17)\n",
      "Requirement already satisfied: pygments in c:\\users\\jose\\anaconda3\\lib\\site-packages (from ipython>=5.0.0->ipykernel->notebook>=4.0->jupyter_nbextensions_configurator) (2.9.0)\n",
      "Requirement already satisfied: jedi>=0.16 in c:\\users\\jose\\anaconda3\\lib\\site-packages (from ipython>=5.0.0->ipykernel->notebook>=4.0->jupyter_nbextensions_configurator) (0.17.2)\n",
      "Requirement already satisfied: parso<0.8.0,>=0.7.0 in c:\\users\\jose\\anaconda3\\lib\\site-packages (from jedi>=0.16->ipython>=5.0.0->ipykernel->notebook>=4.0->jupyter_nbextensions_configurator) (0.7.0)\n",
      "Requirement already satisfied: wcwidth in c:\\users\\jose\\anaconda3\\lib\\site-packages (from prompt-toolkit!=3.0.0,!=3.0.1,<3.1.0,>=2.0.0->ipython>=5.0.0->ipykernel->notebook>=4.0->jupyter_nbextensions_configurator) (0.2.5)\n",
      "Requirement already satisfied: MarkupSafe>=2.0.0rc2 in c:\\users\\jose\\anaconda3\\lib\\site-packages (from jinja2->notebook>=4.0->jupyter_nbextensions_configurator) (2.0.1)\n",
      "Requirement already satisfied: jupyterlab-pygments in c:\\users\\jose\\anaconda3\\lib\\site-packages (from nbconvert->notebook>=4.0->jupyter_nbextensions_configurator) (0.1.2)\n",
      "Requirement already satisfied: entrypoints>=0.2.2 in c:\\users\\jose\\anaconda3\\lib\\site-packages (from nbconvert->notebook>=4.0->jupyter_nbextensions_configurator) (0.3)\n",
      "Requirement already satisfied: bleach in c:\\users\\jose\\anaconda3\\lib\\site-packages (from nbconvert->notebook>=4.0->jupyter_nbextensions_configurator) (3.3.0)\n",
      "Requirement already satisfied: defusedxml in c:\\users\\jose\\anaconda3\\lib\\site-packages (from nbconvert->notebook>=4.0->jupyter_nbextensions_configurator) (0.7.1)\n",
      "Requirement already satisfied: mistune<2,>=0.8.1 in c:\\users\\jose\\anaconda3\\lib\\site-packages (from nbconvert->notebook>=4.0->jupyter_nbextensions_configurator) (0.8.4)\n",
      "Requirement already satisfied: nbclient<0.6.0,>=0.5.0 in c:\\users\\jose\\anaconda3\\lib\\site-packages (from nbconvert->notebook>=4.0->jupyter_nbextensions_configurator) (0.5.3)\n",
      "Requirement already satisfied: testpath in c:\\users\\jose\\anaconda3\\lib\\site-packages (from nbconvert->notebook>=4.0->jupyter_nbextensions_configurator) (0.4.4)\n",
      "Requirement already satisfied: pandocfilters>=1.4.1 in c:\\users\\jose\\anaconda3\\lib\\site-packages (from nbconvert->notebook>=4.0->jupyter_nbextensions_configurator) (1.4.3)\n",
      "Requirement already satisfied: nest-asyncio in c:\\users\\jose\\anaconda3\\lib\\site-packages (from nbclient<0.6.0,>=0.5.0->nbconvert->notebook>=4.0->jupyter_nbextensions_configurator) (1.5.1)\n",
      "Requirement already satisfied: async-generator in c:\\users\\jose\\anaconda3\\lib\\site-packages (from nbclient<0.6.0,>=0.5.0->nbconvert->notebook>=4.0->jupyter_nbextensions_configurator) (1.10)\n",
      "Requirement already satisfied: jsonschema!=2.5.0,>=2.4 in c:\\users\\jose\\anaconda3\\lib\\site-packages (from nbformat->notebook>=4.0->jupyter_nbextensions_configurator) (3.2.0)\n",
      "Requirement already satisfied: pyrsistent>=0.14.0 in c:\\users\\jose\\anaconda3\\lib\\site-packages (from jsonschema!=2.5.0,>=2.4->nbformat->notebook>=4.0->jupyter_nbextensions_configurator) (0.17.3)\n",
      "Requirement already satisfied: attrs>=17.4.0 in c:\\users\\jose\\anaconda3\\lib\\site-packages (from jsonschema!=2.5.0,>=2.4->nbformat->notebook>=4.0->jupyter_nbextensions_configurator) (21.2.0)\n",
      "Requirement already satisfied: packaging in c:\\users\\jose\\anaconda3\\lib\\site-packages (from bleach->nbconvert->notebook>=4.0->jupyter_nbextensions_configurator) (20.9)\n",
      "Requirement already satisfied: webencodings in c:\\users\\jose\\anaconda3\\lib\\site-packages (from bleach->nbconvert->notebook>=4.0->jupyter_nbextensions_configurator) (0.5.1)\n",
      "Requirement already satisfied: pyparsing>=2.0.2 in c:\\users\\jose\\anaconda3\\lib\\site-packages (from packaging->bleach->nbconvert->notebook>=4.0->jupyter_nbextensions_configurator) (2.4.7)\n",
      "Building wheels for collected packages: jupyter-nbextensions-configurator\n",
      "  Building wheel for jupyter-nbextensions-configurator (setup.py): started\n",
      "  Building wheel for jupyter-nbextensions-configurator (setup.py): finished with status 'done'\n",
      "  Created wheel for jupyter-nbextensions-configurator: filename=jupyter_nbextensions_configurator-0.4.1-py2.py3-none-any.whl size=465825 sha256=59ce700bbbf557ecd2e636e7128f439fb2a1fa6523e47eddc846d2431363234e\n",
      "  Stored in directory: c:\\users\\jose\\appdata\\local\\pip\\cache\\wheels\\e3\\3a\\b3\\a709b437602c3807f079f0c35ccba3e1adf9af6f2e6b0ebfea\n",
      "Successfully built jupyter-nbextensions-configurator\n",
      "Installing collected packages: jupyter-contrib-core, jupyter-nbextensions-configurator\n",
      "Successfully installed jupyter-contrib-core-0.3.3 jupyter-nbextensions-configurator-0.4.1\n"
     ]
    }
   ],
   "source": [
    "!pip install jupyter_nbextensions_configurator\n"
   ]
  },
  {
   "cell_type": "code",
   "execution_count": null,
   "id": "e96f394e",
   "metadata": {},
   "outputs": [],
   "source": []
  }
 ],
 "metadata": {
  "kernelspec": {
   "display_name": "Python 3",
   "language": "python",
   "name": "python3"
  },
  "language_info": {
   "codemirror_mode": {
    "name": "ipython",
    "version": 3
   },
   "file_extension": ".py",
   "mimetype": "text/x-python",
   "name": "python",
   "nbconvert_exporter": "python",
   "pygments_lexer": "ipython3",
   "version": "3.8.8"
  }
 },
 "nbformat": 4,
 "nbformat_minor": 5
}
